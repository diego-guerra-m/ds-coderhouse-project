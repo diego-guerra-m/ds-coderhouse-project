{
  "cells": [
    {
      "cell_type": "markdown",
      "metadata": {
        "id": "view-in-github",
        "colab_type": "text"
      },
      "source": [
        "<a href=\"https://colab.research.google.com/github/diego-guerra-m/ds-coderhouse-project/blob/main/SegundaEntrega%2BGuerra.ipynb\" target=\"_parent\"><img src=\"https://colab.research.google.com/assets/colab-badge.svg\" alt=\"Open In Colab\"/></a>"
      ]
    },
    {
      "cell_type": "markdown",
      "metadata": {
        "id": "ynt5VQs6Yn2F"
      },
      "source": [
        "# Instalacion API Kaggle\n",
        "Instalacion de las credencias de la API de Kaggle para descargar los datasets (solo es necesario ejecutar una vez)"
      ]
    },
    {
      "cell_type": "code",
      "execution_count": null,
      "metadata": {
        "colab": {
          "base_uri": "https://localhost:8080/"
        },
        "id": "SEHVtolGYvHr",
        "outputId": "edf32a9c-dbf9-4b5b-bad6-5a73a42d477e"
      },
      "outputs": [
        {
          "output_type": "stream",
          "name": "stdout",
          "text": [
            "Looking in indexes: https://pypi.org/simple, https://us-python.pkg.dev/colab-wheels/public/simple/\n",
            "Requirement already satisfied: kaggle in /usr/local/lib/python3.8/dist-packages (1.5.12)\n",
            "Requirement already satisfied: python-dateutil in /usr/local/lib/python3.8/dist-packages (from kaggle) (2.8.2)\n",
            "Requirement already satisfied: certifi in /usr/local/lib/python3.8/dist-packages (from kaggle) (2022.12.7)\n",
            "Requirement already satisfied: requests in /usr/local/lib/python3.8/dist-packages (from kaggle) (2.25.1)\n",
            "Requirement already satisfied: six>=1.10 in /usr/local/lib/python3.8/dist-packages (from kaggle) (1.15.0)\n",
            "Requirement already satisfied: urllib3 in /usr/local/lib/python3.8/dist-packages (from kaggle) (1.24.3)\n",
            "Requirement already satisfied: tqdm in /usr/local/lib/python3.8/dist-packages (from kaggle) (4.64.1)\n",
            "Requirement already satisfied: python-slugify in /usr/local/lib/python3.8/dist-packages (from kaggle) (7.0.0)\n",
            "Requirement already satisfied: text-unidecode>=1.3 in /usr/local/lib/python3.8/dist-packages (from python-slugify->kaggle) (1.3)\n",
            "Requirement already satisfied: idna<3,>=2.5 in /usr/local/lib/python3.8/dist-packages (from requests->kaggle) (2.10)\n",
            "Requirement already satisfied: chardet<5,>=3.0.2 in /usr/local/lib/python3.8/dist-packages (from requests->kaggle) (4.0.0)\n"
          ]
        }
      ],
      "source": [
        "#Instala Kaggle\n",
        "!pip install kaggle"
      ]
    },
    {
      "cell_type": "code",
      "execution_count": null,
      "metadata": {
        "id": "spxqpOa6Zw0U"
      },
      "outputs": [],
      "source": [
        "#Crea la ruta necesaria para guardar el archivo de credenciales de la API\n",
        "!mkdir ~/.kaggle"
      ]
    },
    {
      "cell_type": "code",
      "execution_count": null,
      "metadata": {
        "colab": {
          "base_uri": "https://localhost:8080/"
        },
        "id": "TLa9nkX1G193",
        "outputId": "7d5125ad-5e81-4a51-c516-c712aec3f1c2"
      },
      "outputs": [
        {
          "output_type": "stream",
          "name": "stdout",
          "text": [
            "/usr/local/lib/python3.8/dist-packages/gdown/cli.py:127: FutureWarning: Option `--id` was deprecated in version 4.3.1 and will be removed in 5.0. You don't need to pass it anymore to use a file ID.\n",
            "  warnings.warn(\n",
            "Downloading...\n",
            "From: https://drive.google.com/uc?id=1yI2x4qazF5vuMFw_aof-4laGe366TyrJ\n",
            "To: /content/kaggle.json\n",
            "100% 66.0/66.0 [00:00<00:00, 82.4kB/s]\n"
          ]
        }
      ],
      "source": [
        "#Descarga el archivo con las credenciales para la API de Kaggle en la carpeta actual\n",
        "!gdown --id 1yI2x4qazF5vuMFw_aof-4laGe366TyrJ"
      ]
    },
    {
      "cell_type": "code",
      "execution_count": null,
      "metadata": {
        "id": "f7BY-mrLas-3"
      },
      "outputs": [],
      "source": [
        "#Copia el archivo de credenciales de API en la carpeta ncesaria para que funcione\n",
        "!cp kaggle.json ~/.kaggle/"
      ]
    },
    {
      "cell_type": "code",
      "execution_count": null,
      "metadata": {
        "id": "wjdylx9wa94L"
      },
      "outputs": [],
      "source": [
        "#Modificacion de permisos del archivo para su correcto funcionamiento\n",
        "!chmod 600 ~/.kaggle/kaggle.json"
      ]
    },
    {
      "cell_type": "markdown",
      "metadata": {
        "id": "lAn93sPedMsm"
      },
      "source": [
        "#Abstract"
      ]
    },
    {
      "cell_type": "markdown",
      "metadata": {
        "id": "w2BIBQfe9a8F"
      },
      "source": [
        "En el futbol y en muchos otros deportes, las condiciones del mercado para adquirir o vender jugadores son bastante dinámicas. Ya sea para aprovechar oportunidades con nuevos jugadores o para invertir en jugadores ya consolidados, resulta bastante importante tener una idea de cuál sería el precio de los jugadores en el mercado. Los objetivos de este proyecto consisten en analizar, a través de una base de datos de jugadores profesionales, determinar cuáles son los atributos más importantes de un jugador al momento de establecer su precio en el mercado y, mediante técnicas de ciencia de datos y machine learning, intentar predecirlo, con el fin de brindar una herramienta que le permita a un club de futbol tomar decisiones con respecto a, ya sea para proteger sus jugadores más valiosos con mejores condiciones salariales o encontrar nuevas y potenciales estrellas para su equipo o para inversión.\n",
        "\n",
        "El dataset utilizado ha sido recolectado mediante la base de datos de FIFA y los datos de valores en el mercado de los jugadores obtenidos de la página web Transfermarkt y descargado de la página web Kaggle. En este podremos encontrar información relevante de cada jugador como la posición que juega, en que liga juega, si es zurdo o si es derecho, cuál es su relevancia internacional, entre otros. Se utilizaron las librerías graficas del lenguaje de programación Python, como Matplotlib y Seaborn con el objetivo de realizar visualizaciones que permitan entender como están estructurados los datos y poder elegir el algoritmo más adecuado para la creación del modelo que permita contestar las preguntas planteadas."
      ]
    },
    {
      "cell_type": "markdown",
      "metadata": {
        "id": "pc_e0R_aEUy5"
      },
      "source": [
        "#1. Definicion de Objetivo\n",
        "\n",
        "Predecir el precio de un jugador de futbol de acuerdo a sus caracteristicas.\n",
        "\n"
      ]
    },
    {
      "cell_type": "markdown",
      "metadata": {
        "id": "n9otwlxTFl_l"
      },
      "source": [
        "#2. Contexto comercial\n",
        "\n",
        "Un club de futbol esta interesado en encontrar nuevas tecnicas que le permitan valorar el precio de sus jugadores de manera mas adecuada y tener una idea mas clara del valor verdadero de potenciales estrellas que quieren adquirir. Esto les permitiria maximizar las ganancias de una venta o encontrar el minimo requerido para hacer una inversion en un nuevo jugador."
      ]
    },
    {
      "cell_type": "markdown",
      "metadata": {
        "id": "_2ZFTLxMHUt5"
      },
      "source": [
        "#3. Problema comercial\n",
        "\n",
        "Para un club es importante responder a preguntas como:\n",
        "\n",
        "Cual es el salario apropiado para un jugador?\n",
        "\n",
        "Cuales son las caracteristicas mas importantes para ponerle precio a un jugador?\n",
        "\n",
        "Cuales son los paises con jugadores con mayor potencial?\n",
        "\n",
        "Cuales son las posiciones de juego mas importantes para el precio de un jugador?\n",
        "\n",
        "Cuales son las ligas con los jugadores con mejor potencial?"
      ]
    },
    {
      "cell_type": "markdown",
      "metadata": {
        "id": "nwvvU9VKW7Gs"
      },
      "source": [
        "#4. Contexto Analitico\n",
        "\n",
        "El dataset ha sido obtenido desde la plataforma de ciencia de datos Kaggle, que a su vez ha sido extraido de la base de datos de la FIFA y los valores del mercado de la pagina web Transfermark"
      ]
    },
    {
      "cell_type": "markdown",
      "metadata": {
        "id": "sUoVtVsQDNOS"
      },
      "source": [
        "### Descripcion de variables de interes"
      ]
    },
    {
      "cell_type": "markdown",
      "metadata": {
        "id": "2X5UFHFYDNOS"
      },
      "source": [
        "**long_name**: Nombre completo del jugador. \\\n",
        "**age**: Edad. \\\n",
        "**dob**: Fecha de nacimiento. \\\n",
        "**height_cm**: Altura en centimetros. \\\n",
        "**weight_kg**: Peso en kilogramos. \\\n",
        "**nationality**: Nacionalidad. \\\n",
        "**club_name**: Nombre del club al que pertenece. \\\n",
        "**league_name**: Nombre de la liga a la que pertenece el club del jugador. \\\n",
        "**league_rank**: Position en la liga. \\\n",
        "**overall**: Promedio de atributos. \\\n",
        "**potential**: Valor maximo de promedio de atributos. \\\n",
        "**value_eur**: Valor del jugador en euros. \\\n",
        "**wage_eur**: Salario del jugador en euros. \\\n",
        "**player_positions**: Posiciones en las que puede jugar el futbolista. \\\n",
        "**preferred_foot**: Pierna preferida (izquierda o derecha). \\\n",
        "**international_reputation**: Reputacion internacional (valor de 1 a 5). \\\n",
        "**weak_foot**: Valor del pie debil de 1 a 5. \\\n",
        "**skill_moves**: . \\\n",
        "**work_rate**: . \\\n",
        "**release_clause_eur**: . \\\n",
        "**player_tags**: Etiquetas con atributos del jugador. \\\n",
        "**team_position**: Posicion en el equipo (Arquero, defensa, centrocampista, delantero). \\\n",
        "**loaned_from**: Equipo desde donde esta en prestamo el jugador. \\\n",
        "**joined**: Fecha de ingreso al club actual. \\\n",
        "**contract_valid_until**: Fecha de terminacion de contrato. \\\n",
        "**nation_position**: Posicion en la que juega en seleccion nacional. \\\n",
        "**pace**: Valor de 1 a 99 de ritmo de juego. \\\n",
        "**shooting**: Valor de 1 a 99 de potencia de tiro. \\\n",
        "**passing**: Valor de 1 a 99 de efectividad de pases. \\\n",
        "**dribbling**: Valor de 1 a 99 de experticia de regate, control del balon. \\\n",
        "**defending**: Valor de 1 a 99 de habilidad defensiva. \\\n",
        "**physic**: Valor de 1 a 99 de habilidad fisica. \\\n",
        "\n",
        "Valores de 1 a 99 de habilidades para portero\n",
        "**gk_diving**. \\\n",
        "**gk_handling**. \\\n",
        "**gk_kicking**. \\\n",
        "**gk_reflexes**. \\\n",
        "**gk_speed**. \\\n",
        "**gk_positioning**. \\\n",
        "\n",
        "\n",
        "**player_traits**: Atributos del jugador. \\\n",
        "\n"
      ]
    },
    {
      "cell_type": "markdown",
      "metadata": {
        "id": "5Dok_VF0nTgB"
      },
      "source": [
        "#5. Analisis Exploratorio de Datos (EDA)\n"
      ]
    },
    {
      "cell_type": "markdown",
      "metadata": {
        "id": "KKQmQEpqDNOQ"
      },
      "source": [
        "##Descarga de dataset\n",
        "##Potential Stars: Predicting Football Player Prices\n",
        "\n",
        "Fuente: https://www.kaggle.com/datasets/thedevastator/footballpriceprediction\n",
        "\n",
        "Este dataset contiene los datos necesarios para predecir el precio de un jugador de futbol, basandose en su desempeno. O tambien para averiguar cuales son los factores mas tenidos en cuenta a la hora de ponerle un precio a un jugador."
      ]
    },
    {
      "cell_type": "code",
      "execution_count": null,
      "metadata": {
        "id": "cEg_x-PNDNOQ",
        "colab": {
          "base_uri": "https://localhost:8080/"
        },
        "outputId": "c4cf1ed2-ea21-4822-cca9-0796b9fad302"
      },
      "outputs": [
        {
          "output_type": "stream",
          "name": "stdout",
          "text": [
            "Downloading footballpriceprediction.zip to /content\n",
            "100% 2.79M/2.79M [00:00<00:00, 5.22MB/s]\n",
            "100% 2.79M/2.79M [00:00<00:00, 4.44MB/s]\n"
          ]
        }
      ],
      "source": [
        "#Descarga del dataset en formato texto\n",
        "!kaggle datasets download -d thedevastator/footballpriceprediction"
      ]
    },
    {
      "cell_type": "code",
      "execution_count": null,
      "metadata": {
        "id": "x25Ju62xDNOR",
        "colab": {
          "base_uri": "https://localhost:8080/"
        },
        "outputId": "05da91db-3342-4afe-8ee7-b0aa91918108"
      },
      "outputs": [
        {
          "output_type": "stream",
          "name": "stdout",
          "text": [
            "Archive:  footballpriceprediction.zip\n",
            "  inflating: footballData.csv        \n"
          ]
        }
      ],
      "source": [
        "#Extrae el archivo de texto del comprimido descargado de Kaggle\n",
        "!unzip -o footballpriceprediction.zip"
      ]
    },
    {
      "cell_type": "markdown",
      "metadata": {
        "id": "sm-qBSpEDNOR"
      },
      "source": [
        "### Carga de librerias\n",
        "\n",
        "Pandas para la carga del dataset, Matplotlib y Seaborn para los graficos"
      ]
    },
    {
      "cell_type": "code",
      "execution_count": null,
      "metadata": {
        "id": "EznyKmfuLPxj"
      },
      "outputs": [],
      "source": [
        "import matplotlib as mpl\n",
        "import matplotlib.pyplot as plt\n",
        "import numpy as np\n",
        "import seaborn as sns\n",
        "import pandas as pd"
      ]
    },
    {
      "cell_type": "code",
      "execution_count": null,
      "metadata": {
        "id": "b1hMaa4vDNOR"
      },
      "outputs": [],
      "source": [
        "df_ft = pd.read_csv('footballData.csv')"
      ]
    },
    {
      "cell_type": "code",
      "execution_count": null,
      "metadata": {
        "id": "aKroSt0QDNOS",
        "colab": {
          "base_uri": "https://localhost:8080/",
          "height": 401
        },
        "outputId": "ddf33bde-a9f2-46c2-9627-a3e319c9a074"
      },
      "outputs": [
        {
          "output_type": "execute_result",
          "data": {
            "text/plain": [
              "   sofifa_id                                         player_url  \\\n",
              "0     158023  https://sofifa.com/player/158023/lionel-messi/...   \n",
              "1      20801  https://sofifa.com/player/20801/c-ronaldo-dos-...   \n",
              "2     200389  https://sofifa.com/player/200389/jan-oblak/210002   \n",
              "3     188545  https://sofifa.com/player/188545/robert-lewand...   \n",
              "4     190871  https://sofifa.com/player/190871/neymar-da-sil...   \n",
              "\n",
              "          short_name                            long_name  age         dob  \\\n",
              "0           L. Messi       Lionel Andrés Messi Cuccittini   33  24/06/1987   \n",
              "1  Cristiano Ronaldo  Cristiano Ronaldo dos Santos Aveiro   35  05/02/1985   \n",
              "2           J. Oblak                            Jan Oblak   27  07/01/1993   \n",
              "3     R. Lewandowski                   Robert Lewandowski   31  21/08/1988   \n",
              "4          Neymar Jr        Neymar da Silva Santos Júnior   28  05/02/1992   \n",
              "\n",
              "   height_cm  weight_kg nationality            club_name  ...   lwb   ldm  \\\n",
              "0        170         72   Argentina         FC Barcelona  ...  66+3  65+3   \n",
              "1        187         83    Portugal             Juventus  ...  65+3  61+3   \n",
              "2        188         87    Slovenia      Atlético Madrid  ...  32+3  36+3   \n",
              "3        184         80      Poland    FC Bayern München  ...  64+3  65+3   \n",
              "4        175         68      Brazil  Paris Saint-Germain  ...  67+3  62+3   \n",
              "\n",
              "    cdm   rdm   rwb    lb   lcb    cb   rcb    rb  \n",
              "0  65+3  65+3  66+3  62+3  52+3  52+3  52+3  62+3  \n",
              "1  61+3  61+3  65+3  61+3  54+3  54+3  54+3  61+3  \n",
              "2  36+3  36+3  32+3  32+3  33+3  33+3  33+3  32+3  \n",
              "3  65+3  65+3  64+3  61+3  60+3  60+3  60+3  61+3  \n",
              "4  62+3  62+3  67+3  62+3  49+3  49+3  49+3  62+3  \n",
              "\n",
              "[5 rows x 106 columns]"
            ],
            "text/html": [
              "\n",
              "  <div id=\"df-a9c1e1f1-e0b7-4b5e-8067-57493e444dc2\">\n",
              "    <div class=\"colab-df-container\">\n",
              "      <div>\n",
              "<style scoped>\n",
              "    .dataframe tbody tr th:only-of-type {\n",
              "        vertical-align: middle;\n",
              "    }\n",
              "\n",
              "    .dataframe tbody tr th {\n",
              "        vertical-align: top;\n",
              "    }\n",
              "\n",
              "    .dataframe thead th {\n",
              "        text-align: right;\n",
              "    }\n",
              "</style>\n",
              "<table border=\"1\" class=\"dataframe\">\n",
              "  <thead>\n",
              "    <tr style=\"text-align: right;\">\n",
              "      <th></th>\n",
              "      <th>sofifa_id</th>\n",
              "      <th>player_url</th>\n",
              "      <th>short_name</th>\n",
              "      <th>long_name</th>\n",
              "      <th>age</th>\n",
              "      <th>dob</th>\n",
              "      <th>height_cm</th>\n",
              "      <th>weight_kg</th>\n",
              "      <th>nationality</th>\n",
              "      <th>club_name</th>\n",
              "      <th>...</th>\n",
              "      <th>lwb</th>\n",
              "      <th>ldm</th>\n",
              "      <th>cdm</th>\n",
              "      <th>rdm</th>\n",
              "      <th>rwb</th>\n",
              "      <th>lb</th>\n",
              "      <th>lcb</th>\n",
              "      <th>cb</th>\n",
              "      <th>rcb</th>\n",
              "      <th>rb</th>\n",
              "    </tr>\n",
              "  </thead>\n",
              "  <tbody>\n",
              "    <tr>\n",
              "      <th>0</th>\n",
              "      <td>158023</td>\n",
              "      <td>https://sofifa.com/player/158023/lionel-messi/...</td>\n",
              "      <td>L. Messi</td>\n",
              "      <td>Lionel Andrés Messi Cuccittini</td>\n",
              "      <td>33</td>\n",
              "      <td>24/06/1987</td>\n",
              "      <td>170</td>\n",
              "      <td>72</td>\n",
              "      <td>Argentina</td>\n",
              "      <td>FC Barcelona</td>\n",
              "      <td>...</td>\n",
              "      <td>66+3</td>\n",
              "      <td>65+3</td>\n",
              "      <td>65+3</td>\n",
              "      <td>65+3</td>\n",
              "      <td>66+3</td>\n",
              "      <td>62+3</td>\n",
              "      <td>52+3</td>\n",
              "      <td>52+3</td>\n",
              "      <td>52+3</td>\n",
              "      <td>62+3</td>\n",
              "    </tr>\n",
              "    <tr>\n",
              "      <th>1</th>\n",
              "      <td>20801</td>\n",
              "      <td>https://sofifa.com/player/20801/c-ronaldo-dos-...</td>\n",
              "      <td>Cristiano Ronaldo</td>\n",
              "      <td>Cristiano Ronaldo dos Santos Aveiro</td>\n",
              "      <td>35</td>\n",
              "      <td>05/02/1985</td>\n",
              "      <td>187</td>\n",
              "      <td>83</td>\n",
              "      <td>Portugal</td>\n",
              "      <td>Juventus</td>\n",
              "      <td>...</td>\n",
              "      <td>65+3</td>\n",
              "      <td>61+3</td>\n",
              "      <td>61+3</td>\n",
              "      <td>61+3</td>\n",
              "      <td>65+3</td>\n",
              "      <td>61+3</td>\n",
              "      <td>54+3</td>\n",
              "      <td>54+3</td>\n",
              "      <td>54+3</td>\n",
              "      <td>61+3</td>\n",
              "    </tr>\n",
              "    <tr>\n",
              "      <th>2</th>\n",
              "      <td>200389</td>\n",
              "      <td>https://sofifa.com/player/200389/jan-oblak/210002</td>\n",
              "      <td>J. Oblak</td>\n",
              "      <td>Jan Oblak</td>\n",
              "      <td>27</td>\n",
              "      <td>07/01/1993</td>\n",
              "      <td>188</td>\n",
              "      <td>87</td>\n",
              "      <td>Slovenia</td>\n",
              "      <td>Atlético Madrid</td>\n",
              "      <td>...</td>\n",
              "      <td>32+3</td>\n",
              "      <td>36+3</td>\n",
              "      <td>36+3</td>\n",
              "      <td>36+3</td>\n",
              "      <td>32+3</td>\n",
              "      <td>32+3</td>\n",
              "      <td>33+3</td>\n",
              "      <td>33+3</td>\n",
              "      <td>33+3</td>\n",
              "      <td>32+3</td>\n",
              "    </tr>\n",
              "    <tr>\n",
              "      <th>3</th>\n",
              "      <td>188545</td>\n",
              "      <td>https://sofifa.com/player/188545/robert-lewand...</td>\n",
              "      <td>R. Lewandowski</td>\n",
              "      <td>Robert Lewandowski</td>\n",
              "      <td>31</td>\n",
              "      <td>21/08/1988</td>\n",
              "      <td>184</td>\n",
              "      <td>80</td>\n",
              "      <td>Poland</td>\n",
              "      <td>FC Bayern München</td>\n",
              "      <td>...</td>\n",
              "      <td>64+3</td>\n",
              "      <td>65+3</td>\n",
              "      <td>65+3</td>\n",
              "      <td>65+3</td>\n",
              "      <td>64+3</td>\n",
              "      <td>61+3</td>\n",
              "      <td>60+3</td>\n",
              "      <td>60+3</td>\n",
              "      <td>60+3</td>\n",
              "      <td>61+3</td>\n",
              "    </tr>\n",
              "    <tr>\n",
              "      <th>4</th>\n",
              "      <td>190871</td>\n",
              "      <td>https://sofifa.com/player/190871/neymar-da-sil...</td>\n",
              "      <td>Neymar Jr</td>\n",
              "      <td>Neymar da Silva Santos Júnior</td>\n",
              "      <td>28</td>\n",
              "      <td>05/02/1992</td>\n",
              "      <td>175</td>\n",
              "      <td>68</td>\n",
              "      <td>Brazil</td>\n",
              "      <td>Paris Saint-Germain</td>\n",
              "      <td>...</td>\n",
              "      <td>67+3</td>\n",
              "      <td>62+3</td>\n",
              "      <td>62+3</td>\n",
              "      <td>62+3</td>\n",
              "      <td>67+3</td>\n",
              "      <td>62+3</td>\n",
              "      <td>49+3</td>\n",
              "      <td>49+3</td>\n",
              "      <td>49+3</td>\n",
              "      <td>62+3</td>\n",
              "    </tr>\n",
              "  </tbody>\n",
              "</table>\n",
              "<p>5 rows × 106 columns</p>\n",
              "</div>\n",
              "      <button class=\"colab-df-convert\" onclick=\"convertToInteractive('df-a9c1e1f1-e0b7-4b5e-8067-57493e444dc2')\"\n",
              "              title=\"Convert this dataframe to an interactive table.\"\n",
              "              style=\"display:none;\">\n",
              "        \n",
              "  <svg xmlns=\"http://www.w3.org/2000/svg\" height=\"24px\"viewBox=\"0 0 24 24\"\n",
              "       width=\"24px\">\n",
              "    <path d=\"M0 0h24v24H0V0z\" fill=\"none\"/>\n",
              "    <path d=\"M18.56 5.44l.94 2.06.94-2.06 2.06-.94-2.06-.94-.94-2.06-.94 2.06-2.06.94zm-11 1L8.5 8.5l.94-2.06 2.06-.94-2.06-.94L8.5 2.5l-.94 2.06-2.06.94zm10 10l.94 2.06.94-2.06 2.06-.94-2.06-.94-.94-2.06-.94 2.06-2.06.94z\"/><path d=\"M17.41 7.96l-1.37-1.37c-.4-.4-.92-.59-1.43-.59-.52 0-1.04.2-1.43.59L10.3 9.45l-7.72 7.72c-.78.78-.78 2.05 0 2.83L4 21.41c.39.39.9.59 1.41.59.51 0 1.02-.2 1.41-.59l7.78-7.78 2.81-2.81c.8-.78.8-2.07 0-2.86zM5.41 20L4 18.59l7.72-7.72 1.47 1.35L5.41 20z\"/>\n",
              "  </svg>\n",
              "      </button>\n",
              "      \n",
              "  <style>\n",
              "    .colab-df-container {\n",
              "      display:flex;\n",
              "      flex-wrap:wrap;\n",
              "      gap: 12px;\n",
              "    }\n",
              "\n",
              "    .colab-df-convert {\n",
              "      background-color: #E8F0FE;\n",
              "      border: none;\n",
              "      border-radius: 50%;\n",
              "      cursor: pointer;\n",
              "      display: none;\n",
              "      fill: #1967D2;\n",
              "      height: 32px;\n",
              "      padding: 0 0 0 0;\n",
              "      width: 32px;\n",
              "    }\n",
              "\n",
              "    .colab-df-convert:hover {\n",
              "      background-color: #E2EBFA;\n",
              "      box-shadow: 0px 1px 2px rgba(60, 64, 67, 0.3), 0px 1px 3px 1px rgba(60, 64, 67, 0.15);\n",
              "      fill: #174EA6;\n",
              "    }\n",
              "\n",
              "    [theme=dark] .colab-df-convert {\n",
              "      background-color: #3B4455;\n",
              "      fill: #D2E3FC;\n",
              "    }\n",
              "\n",
              "    [theme=dark] .colab-df-convert:hover {\n",
              "      background-color: #434B5C;\n",
              "      box-shadow: 0px 1px 3px 1px rgba(0, 0, 0, 0.15);\n",
              "      filter: drop-shadow(0px 1px 2px rgba(0, 0, 0, 0.3));\n",
              "      fill: #FFFFFF;\n",
              "    }\n",
              "  </style>\n",
              "\n",
              "      <script>\n",
              "        const buttonEl =\n",
              "          document.querySelector('#df-a9c1e1f1-e0b7-4b5e-8067-57493e444dc2 button.colab-df-convert');\n",
              "        buttonEl.style.display =\n",
              "          google.colab.kernel.accessAllowed ? 'block' : 'none';\n",
              "\n",
              "        async function convertToInteractive(key) {\n",
              "          const element = document.querySelector('#df-a9c1e1f1-e0b7-4b5e-8067-57493e444dc2');\n",
              "          const dataTable =\n",
              "            await google.colab.kernel.invokeFunction('convertToInteractive',\n",
              "                                                     [key], {});\n",
              "          if (!dataTable) return;\n",
              "\n",
              "          const docLinkHtml = 'Like what you see? Visit the ' +\n",
              "            '<a target=\"_blank\" href=https://colab.research.google.com/notebooks/data_table.ipynb>data table notebook</a>'\n",
              "            + ' to learn more about interactive tables.';\n",
              "          element.innerHTML = '';\n",
              "          dataTable['output_type'] = 'display_data';\n",
              "          await google.colab.output.renderOutput(dataTable, element);\n",
              "          const docLink = document.createElement('div');\n",
              "          docLink.innerHTML = docLinkHtml;\n",
              "          element.appendChild(docLink);\n",
              "        }\n",
              "      </script>\n",
              "    </div>\n",
              "  </div>\n",
              "  "
            ]
          },
          "metadata": {},
          "execution_count": 10
        }
      ],
      "source": [
        "df_ft.head()"
      ]
    },
    {
      "cell_type": "code",
      "execution_count": null,
      "metadata": {
        "id": "o2MwU-x95u7S",
        "colab": {
          "base_uri": "https://localhost:8080/",
          "height": 522
        },
        "outputId": "37109057-65ec-49d2-a8b1-1580b1c271c8"
      },
      "outputs": [
        {
          "output_type": "execute_result",
          "data": {
            "text/plain": [
              "                                                  player_url  \\\n",
              "sofifa_id                                                      \n",
              "158023     https://sofifa.com/player/158023/lionel-messi/...   \n",
              "20801      https://sofifa.com/player/20801/c-ronaldo-dos-...   \n",
              "200389     https://sofifa.com/player/200389/jan-oblak/210002   \n",
              "188545     https://sofifa.com/player/188545/robert-lewand...   \n",
              "190871     https://sofifa.com/player/190871/neymar-da-sil...   \n",
              "\n",
              "                  short_name                            long_name  age  \\\n",
              "sofifa_id                                                                \n",
              "158023              L. Messi       Lionel Andrés Messi Cuccittini   33   \n",
              "20801      Cristiano Ronaldo  Cristiano Ronaldo dos Santos Aveiro   35   \n",
              "200389              J. Oblak                            Jan Oblak   27   \n",
              "188545        R. Lewandowski                   Robert Lewandowski   31   \n",
              "190871             Neymar Jr        Neymar da Silva Santos Júnior   28   \n",
              "\n",
              "                  dob  height_cm  weight_kg nationality            club_name  \\\n",
              "sofifa_id                                                                      \n",
              "158023     24/06/1987        170         72   Argentina         FC Barcelona   \n",
              "20801      05/02/1985        187         83    Portugal             Juventus   \n",
              "200389     07/01/1993        188         87    Slovenia      Atlético Madrid   \n",
              "188545     21/08/1988        184         80      Poland    FC Bayern München   \n",
              "190871     05/02/1992        175         68      Brazil  Paris Saint-Germain   \n",
              "\n",
              "                      league_name  ...   lwb   ldm   cdm   rdm   rwb    lb  \\\n",
              "sofifa_id                          ...                                       \n",
              "158023     Spain Primera Division  ...  66+3  65+3  65+3  65+3  66+3  62+3   \n",
              "20801             Italian Serie A  ...  65+3  61+3  61+3  61+3  65+3  61+3   \n",
              "200389     Spain Primera Division  ...  32+3  36+3  36+3  36+3  32+3  32+3   \n",
              "188545       German 1. Bundesliga  ...  64+3  65+3  65+3  65+3  64+3  61+3   \n",
              "190871             French Ligue 1  ...  67+3  62+3  62+3  62+3  67+3  62+3   \n",
              "\n",
              "            lcb    cb   rcb    rb  \n",
              "sofifa_id                          \n",
              "158023     52+3  52+3  52+3  62+3  \n",
              "20801      54+3  54+3  54+3  61+3  \n",
              "200389     33+3  33+3  33+3  32+3  \n",
              "188545     60+3  60+3  60+3  61+3  \n",
              "190871     49+3  49+3  49+3  62+3  \n",
              "\n",
              "[5 rows x 105 columns]"
            ],
            "text/html": [
              "\n",
              "  <div id=\"df-a0547b4d-a162-40b1-9478-eee5599e82bb\">\n",
              "    <div class=\"colab-df-container\">\n",
              "      <div>\n",
              "<style scoped>\n",
              "    .dataframe tbody tr th:only-of-type {\n",
              "        vertical-align: middle;\n",
              "    }\n",
              "\n",
              "    .dataframe tbody tr th {\n",
              "        vertical-align: top;\n",
              "    }\n",
              "\n",
              "    .dataframe thead th {\n",
              "        text-align: right;\n",
              "    }\n",
              "</style>\n",
              "<table border=\"1\" class=\"dataframe\">\n",
              "  <thead>\n",
              "    <tr style=\"text-align: right;\">\n",
              "      <th></th>\n",
              "      <th>player_url</th>\n",
              "      <th>short_name</th>\n",
              "      <th>long_name</th>\n",
              "      <th>age</th>\n",
              "      <th>dob</th>\n",
              "      <th>height_cm</th>\n",
              "      <th>weight_kg</th>\n",
              "      <th>nationality</th>\n",
              "      <th>club_name</th>\n",
              "      <th>league_name</th>\n",
              "      <th>...</th>\n",
              "      <th>lwb</th>\n",
              "      <th>ldm</th>\n",
              "      <th>cdm</th>\n",
              "      <th>rdm</th>\n",
              "      <th>rwb</th>\n",
              "      <th>lb</th>\n",
              "      <th>lcb</th>\n",
              "      <th>cb</th>\n",
              "      <th>rcb</th>\n",
              "      <th>rb</th>\n",
              "    </tr>\n",
              "    <tr>\n",
              "      <th>sofifa_id</th>\n",
              "      <th></th>\n",
              "      <th></th>\n",
              "      <th></th>\n",
              "      <th></th>\n",
              "      <th></th>\n",
              "      <th></th>\n",
              "      <th></th>\n",
              "      <th></th>\n",
              "      <th></th>\n",
              "      <th></th>\n",
              "      <th></th>\n",
              "      <th></th>\n",
              "      <th></th>\n",
              "      <th></th>\n",
              "      <th></th>\n",
              "      <th></th>\n",
              "      <th></th>\n",
              "      <th></th>\n",
              "      <th></th>\n",
              "      <th></th>\n",
              "      <th></th>\n",
              "    </tr>\n",
              "  </thead>\n",
              "  <tbody>\n",
              "    <tr>\n",
              "      <th>158023</th>\n",
              "      <td>https://sofifa.com/player/158023/lionel-messi/...</td>\n",
              "      <td>L. Messi</td>\n",
              "      <td>Lionel Andrés Messi Cuccittini</td>\n",
              "      <td>33</td>\n",
              "      <td>24/06/1987</td>\n",
              "      <td>170</td>\n",
              "      <td>72</td>\n",
              "      <td>Argentina</td>\n",
              "      <td>FC Barcelona</td>\n",
              "      <td>Spain Primera Division</td>\n",
              "      <td>...</td>\n",
              "      <td>66+3</td>\n",
              "      <td>65+3</td>\n",
              "      <td>65+3</td>\n",
              "      <td>65+3</td>\n",
              "      <td>66+3</td>\n",
              "      <td>62+3</td>\n",
              "      <td>52+3</td>\n",
              "      <td>52+3</td>\n",
              "      <td>52+3</td>\n",
              "      <td>62+3</td>\n",
              "    </tr>\n",
              "    <tr>\n",
              "      <th>20801</th>\n",
              "      <td>https://sofifa.com/player/20801/c-ronaldo-dos-...</td>\n",
              "      <td>Cristiano Ronaldo</td>\n",
              "      <td>Cristiano Ronaldo dos Santos Aveiro</td>\n",
              "      <td>35</td>\n",
              "      <td>05/02/1985</td>\n",
              "      <td>187</td>\n",
              "      <td>83</td>\n",
              "      <td>Portugal</td>\n",
              "      <td>Juventus</td>\n",
              "      <td>Italian Serie A</td>\n",
              "      <td>...</td>\n",
              "      <td>65+3</td>\n",
              "      <td>61+3</td>\n",
              "      <td>61+3</td>\n",
              "      <td>61+3</td>\n",
              "      <td>65+3</td>\n",
              "      <td>61+3</td>\n",
              "      <td>54+3</td>\n",
              "      <td>54+3</td>\n",
              "      <td>54+3</td>\n",
              "      <td>61+3</td>\n",
              "    </tr>\n",
              "    <tr>\n",
              "      <th>200389</th>\n",
              "      <td>https://sofifa.com/player/200389/jan-oblak/210002</td>\n",
              "      <td>J. Oblak</td>\n",
              "      <td>Jan Oblak</td>\n",
              "      <td>27</td>\n",
              "      <td>07/01/1993</td>\n",
              "      <td>188</td>\n",
              "      <td>87</td>\n",
              "      <td>Slovenia</td>\n",
              "      <td>Atlético Madrid</td>\n",
              "      <td>Spain Primera Division</td>\n",
              "      <td>...</td>\n",
              "      <td>32+3</td>\n",
              "      <td>36+3</td>\n",
              "      <td>36+3</td>\n",
              "      <td>36+3</td>\n",
              "      <td>32+3</td>\n",
              "      <td>32+3</td>\n",
              "      <td>33+3</td>\n",
              "      <td>33+3</td>\n",
              "      <td>33+3</td>\n",
              "      <td>32+3</td>\n",
              "    </tr>\n",
              "    <tr>\n",
              "      <th>188545</th>\n",
              "      <td>https://sofifa.com/player/188545/robert-lewand...</td>\n",
              "      <td>R. Lewandowski</td>\n",
              "      <td>Robert Lewandowski</td>\n",
              "      <td>31</td>\n",
              "      <td>21/08/1988</td>\n",
              "      <td>184</td>\n",
              "      <td>80</td>\n",
              "      <td>Poland</td>\n",
              "      <td>FC Bayern München</td>\n",
              "      <td>German 1. Bundesliga</td>\n",
              "      <td>...</td>\n",
              "      <td>64+3</td>\n",
              "      <td>65+3</td>\n",
              "      <td>65+3</td>\n",
              "      <td>65+3</td>\n",
              "      <td>64+3</td>\n",
              "      <td>61+3</td>\n",
              "      <td>60+3</td>\n",
              "      <td>60+3</td>\n",
              "      <td>60+3</td>\n",
              "      <td>61+3</td>\n",
              "    </tr>\n",
              "    <tr>\n",
              "      <th>190871</th>\n",
              "      <td>https://sofifa.com/player/190871/neymar-da-sil...</td>\n",
              "      <td>Neymar Jr</td>\n",
              "      <td>Neymar da Silva Santos Júnior</td>\n",
              "      <td>28</td>\n",
              "      <td>05/02/1992</td>\n",
              "      <td>175</td>\n",
              "      <td>68</td>\n",
              "      <td>Brazil</td>\n",
              "      <td>Paris Saint-Germain</td>\n",
              "      <td>French Ligue 1</td>\n",
              "      <td>...</td>\n",
              "      <td>67+3</td>\n",
              "      <td>62+3</td>\n",
              "      <td>62+3</td>\n",
              "      <td>62+3</td>\n",
              "      <td>67+3</td>\n",
              "      <td>62+3</td>\n",
              "      <td>49+3</td>\n",
              "      <td>49+3</td>\n",
              "      <td>49+3</td>\n",
              "      <td>62+3</td>\n",
              "    </tr>\n",
              "  </tbody>\n",
              "</table>\n",
              "<p>5 rows × 105 columns</p>\n",
              "</div>\n",
              "      <button class=\"colab-df-convert\" onclick=\"convertToInteractive('df-a0547b4d-a162-40b1-9478-eee5599e82bb')\"\n",
              "              title=\"Convert this dataframe to an interactive table.\"\n",
              "              style=\"display:none;\">\n",
              "        \n",
              "  <svg xmlns=\"http://www.w3.org/2000/svg\" height=\"24px\"viewBox=\"0 0 24 24\"\n",
              "       width=\"24px\">\n",
              "    <path d=\"M0 0h24v24H0V0z\" fill=\"none\"/>\n",
              "    <path d=\"M18.56 5.44l.94 2.06.94-2.06 2.06-.94-2.06-.94-.94-2.06-.94 2.06-2.06.94zm-11 1L8.5 8.5l.94-2.06 2.06-.94-2.06-.94L8.5 2.5l-.94 2.06-2.06.94zm10 10l.94 2.06.94-2.06 2.06-.94-2.06-.94-.94-2.06-.94 2.06-2.06.94z\"/><path d=\"M17.41 7.96l-1.37-1.37c-.4-.4-.92-.59-1.43-.59-.52 0-1.04.2-1.43.59L10.3 9.45l-7.72 7.72c-.78.78-.78 2.05 0 2.83L4 21.41c.39.39.9.59 1.41.59.51 0 1.02-.2 1.41-.59l7.78-7.78 2.81-2.81c.8-.78.8-2.07 0-2.86zM5.41 20L4 18.59l7.72-7.72 1.47 1.35L5.41 20z\"/>\n",
              "  </svg>\n",
              "      </button>\n",
              "      \n",
              "  <style>\n",
              "    .colab-df-container {\n",
              "      display:flex;\n",
              "      flex-wrap:wrap;\n",
              "      gap: 12px;\n",
              "    }\n",
              "\n",
              "    .colab-df-convert {\n",
              "      background-color: #E8F0FE;\n",
              "      border: none;\n",
              "      border-radius: 50%;\n",
              "      cursor: pointer;\n",
              "      display: none;\n",
              "      fill: #1967D2;\n",
              "      height: 32px;\n",
              "      padding: 0 0 0 0;\n",
              "      width: 32px;\n",
              "    }\n",
              "\n",
              "    .colab-df-convert:hover {\n",
              "      background-color: #E2EBFA;\n",
              "      box-shadow: 0px 1px 2px rgba(60, 64, 67, 0.3), 0px 1px 3px 1px rgba(60, 64, 67, 0.15);\n",
              "      fill: #174EA6;\n",
              "    }\n",
              "\n",
              "    [theme=dark] .colab-df-convert {\n",
              "      background-color: #3B4455;\n",
              "      fill: #D2E3FC;\n",
              "    }\n",
              "\n",
              "    [theme=dark] .colab-df-convert:hover {\n",
              "      background-color: #434B5C;\n",
              "      box-shadow: 0px 1px 3px 1px rgba(0, 0, 0, 0.15);\n",
              "      filter: drop-shadow(0px 1px 2px rgba(0, 0, 0, 0.3));\n",
              "      fill: #FFFFFF;\n",
              "    }\n",
              "  </style>\n",
              "\n",
              "      <script>\n",
              "        const buttonEl =\n",
              "          document.querySelector('#df-a0547b4d-a162-40b1-9478-eee5599e82bb button.colab-df-convert');\n",
              "        buttonEl.style.display =\n",
              "          google.colab.kernel.accessAllowed ? 'block' : 'none';\n",
              "\n",
              "        async function convertToInteractive(key) {\n",
              "          const element = document.querySelector('#df-a0547b4d-a162-40b1-9478-eee5599e82bb');\n",
              "          const dataTable =\n",
              "            await google.colab.kernel.invokeFunction('convertToInteractive',\n",
              "                                                     [key], {});\n",
              "          if (!dataTable) return;\n",
              "\n",
              "          const docLinkHtml = 'Like what you see? Visit the ' +\n",
              "            '<a target=\"_blank\" href=https://colab.research.google.com/notebooks/data_table.ipynb>data table notebook</a>'\n",
              "            + ' to learn more about interactive tables.';\n",
              "          element.innerHTML = '';\n",
              "          dataTable['output_type'] = 'display_data';\n",
              "          await google.colab.output.renderOutput(dataTable, element);\n",
              "          const docLink = document.createElement('div');\n",
              "          docLink.innerHTML = docLinkHtml;\n",
              "          element.appendChild(docLink);\n",
              "        }\n",
              "      </script>\n",
              "    </div>\n",
              "  </div>\n",
              "  "
            ]
          },
          "metadata": {},
          "execution_count": 11
        }
      ],
      "source": [
        "#Volvemos indice el id fifa del jugador y lo eliminamos de las columnas\n",
        "df_ft.index = df_ft['sofifa_id']\n",
        "df_ft = df_ft.drop('sofifa_id', axis = 'columns')\n",
        "df_ft.head()"
      ]
    },
    {
      "cell_type": "code",
      "execution_count": null,
      "metadata": {
        "id": "bUISFDhtvPMq",
        "colab": {
          "base_uri": "https://localhost:8080/"
        },
        "outputId": "14cdb79d-a104-446a-8fc2-c98e313eafad"
      },
      "outputs": [
        {
          "output_type": "execute_result",
          "data": {
            "text/plain": [
              "(18944, 105)"
            ]
          },
          "metadata": {},
          "execution_count": 12
        }
      ],
      "source": [
        "df_ft.shape"
      ]
    },
    {
      "cell_type": "markdown",
      "metadata": {
        "id": "IN0v_nl7vty5"
      },
      "source": [
        "Tenemos 18944 registros de jugadores en nuestra base de datos\n"
      ]
    },
    {
      "cell_type": "code",
      "execution_count": null,
      "metadata": {
        "id": "GpAvMbIgvyNO",
        "colab": {
          "base_uri": "https://localhost:8080/"
        },
        "outputId": "fce96c85-143c-4e68-e5df-1b65834f86bc"
      },
      "outputs": [
        {
          "output_type": "execute_result",
          "data": {
            "text/plain": [
              "array(['player_url', 'short_name', 'long_name', 'age', 'dob', 'height_cm',\n",
              "       'weight_kg', 'nationality', 'club_name', 'league_name',\n",
              "       'league_rank', 'overall', 'potential', 'value_eur', 'wage_eur',\n",
              "       'player_positions', 'preferred_foot', 'international_reputation',\n",
              "       'weak_foot', 'skill_moves', 'work_rate', 'body_type', 'real_face',\n",
              "       'release_clause_eur', 'player_tags', 'team_position',\n",
              "       'team_jersey_number', 'loaned_from', 'joined',\n",
              "       'contract_valid_until', 'nation_position', 'nation_jersey_number',\n",
              "       'pace', 'shooting', 'passing', 'dribbling', 'defending', 'physic',\n",
              "       'gk_diving', 'gk_handling', 'gk_kicking', 'gk_reflexes',\n",
              "       'gk_speed', 'gk_positioning', 'player_traits',\n",
              "       'attacking_crossing', 'attacking_finishing',\n",
              "       'attacking_heading_accuracy', 'attacking_short_passing',\n",
              "       'attacking_volleys', 'skill_dribbling', 'skill_curve',\n",
              "       'skill_fk_accuracy', 'skill_long_passing', 'skill_ball_control',\n",
              "       'movement_acceleration', 'movement_sprint_speed',\n",
              "       'movement_agility', 'movement_reactions', 'movement_balance',\n",
              "       'power_shot_power', 'power_jumping', 'power_stamina',\n",
              "       'power_strength', 'power_long_shots', 'mentality_aggression',\n",
              "       'mentality_interceptions', 'mentality_positioning',\n",
              "       'mentality_vision', 'mentality_penalties', 'mentality_composure',\n",
              "       'defending_marking', 'defending_standing_tackle',\n",
              "       'defending_sliding_tackle', 'goalkeeping_diving',\n",
              "       'goalkeeping_handling', 'goalkeeping_kicking',\n",
              "       'goalkeeping_positioning', 'goalkeeping_reflexes', 'ls', 'st',\n",
              "       'rs', 'lw', 'lf', 'cf', 'rf', 'rw', 'lam', 'cam', 'ram', 'lm',\n",
              "       'lcm', 'cm', 'rcm', 'rm', 'lwb', 'ldm', 'cdm', 'rdm', 'rwb', 'lb',\n",
              "       'lcb', 'cb', 'rcb', 'rb'], dtype=object)"
            ]
          },
          "metadata": {},
          "execution_count": 13
        }
      ],
      "source": [
        "df_ft.columns.values"
      ]
    },
    {
      "cell_type": "markdown",
      "metadata": {
        "id": "pZ3tFhaFv8tJ"
      },
      "source": [
        "Las etiquetas de todos los campos que tenemos, que son 105."
      ]
    },
    {
      "cell_type": "code",
      "execution_count": null,
      "metadata": {
        "id": "sbVgcX7twCCB",
        "colab": {
          "base_uri": "https://localhost:8080/"
        },
        "outputId": "f12cc1d4-f063-410d-eeed-671c7abf5026"
      },
      "outputs": [
        {
          "output_type": "stream",
          "name": "stdout",
          "text": [
            "<class 'pandas.core.frame.DataFrame'>\n",
            "Int64Index: 18944 entries, 158023 to 257936\n",
            "Data columns (total 105 columns):\n",
            " #    Column                      Non-Null Count  Dtype  \n",
            "---   ------                      --------------  -----  \n",
            " 0    player_url                  18944 non-null  object \n",
            " 1    short_name                  18944 non-null  object \n",
            " 2    long_name                   18944 non-null  object \n",
            " 3    age                         18944 non-null  int64  \n",
            " 4    dob                         18944 non-null  object \n",
            " 5    height_cm                   18944 non-null  int64  \n",
            " 6    weight_kg                   18944 non-null  int64  \n",
            " 7    nationality                 18944 non-null  object \n",
            " 8    club_name                   18719 non-null  object \n",
            " 9    league_name                 18719 non-null  object \n",
            " 10   league_rank                 18719 non-null  float64\n",
            " 11   overall                     18944 non-null  int64  \n",
            " 12   potential                   18944 non-null  int64  \n",
            " 13   value_eur                   18944 non-null  int64  \n",
            " 14   wage_eur                    18944 non-null  int64  \n",
            " 15   player_positions            18944 non-null  object \n",
            " 16   preferred_foot              18944 non-null  object \n",
            " 17   international_reputation    18944 non-null  int64  \n",
            " 18   weak_foot                   18944 non-null  int64  \n",
            " 19   skill_moves                 18944 non-null  int64  \n",
            " 20   work_rate                   18944 non-null  object \n",
            " 21   body_type                   18944 non-null  object \n",
            " 22   real_face                   18944 non-null  object \n",
            " 23   release_clause_eur          17949 non-null  float64\n",
            " 24   player_tags                 1408 non-null   object \n",
            " 25   team_position               18719 non-null  object \n",
            " 26   team_jersey_number          18719 non-null  float64\n",
            " 27   loaned_from                 758 non-null    object \n",
            " 28   joined                      17961 non-null  object \n",
            " 29   contract_valid_until        18719 non-null  float64\n",
            " 30   nation_position             1127 non-null   object \n",
            " 31   nation_jersey_number        1127 non-null   float64\n",
            " 32   pace                        16861 non-null  float64\n",
            " 33   shooting                    16861 non-null  float64\n",
            " 34   passing                     16861 non-null  float64\n",
            " 35   dribbling                   16861 non-null  float64\n",
            " 36   defending                   16861 non-null  float64\n",
            " 37   physic                      16861 non-null  float64\n",
            " 38   gk_diving                   2083 non-null   float64\n",
            " 39   gk_handling                 2083 non-null   float64\n",
            " 40   gk_kicking                  2083 non-null   float64\n",
            " 41   gk_reflexes                 2083 non-null   float64\n",
            " 42   gk_speed                    2083 non-null   float64\n",
            " 43   gk_positioning              2083 non-null   float64\n",
            " 44   player_traits               8315 non-null   object \n",
            " 45   attacking_crossing          18944 non-null  int64  \n",
            " 46   attacking_finishing         18944 non-null  int64  \n",
            " 47   attacking_heading_accuracy  18944 non-null  int64  \n",
            " 48   attacking_short_passing     18944 non-null  int64  \n",
            " 49   attacking_volleys           18944 non-null  int64  \n",
            " 50   skill_dribbling             18944 non-null  int64  \n",
            " 51   skill_curve                 18944 non-null  int64  \n",
            " 52   skill_fk_accuracy           18944 non-null  int64  \n",
            " 53   skill_long_passing          18944 non-null  int64  \n",
            " 54   skill_ball_control          18944 non-null  int64  \n",
            " 55   movement_acceleration       18944 non-null  int64  \n",
            " 56   movement_sprint_speed       18944 non-null  int64  \n",
            " 57   movement_agility            18944 non-null  int64  \n",
            " 58   movement_reactions          18944 non-null  int64  \n",
            " 59   movement_balance            18944 non-null  int64  \n",
            " 60   power_shot_power            18944 non-null  int64  \n",
            " 61   power_jumping               18944 non-null  int64  \n",
            " 62   power_stamina               18944 non-null  int64  \n",
            " 63   power_strength              18944 non-null  int64  \n",
            " 64   power_long_shots            18944 non-null  int64  \n",
            " 65   mentality_aggression        18944 non-null  int64  \n",
            " 66   mentality_interceptions     18944 non-null  int64  \n",
            " 67   mentality_positioning       18944 non-null  int64  \n",
            " 68   mentality_vision            18944 non-null  int64  \n",
            " 69   mentality_penalties         18944 non-null  int64  \n",
            " 70   mentality_composure         18944 non-null  int64  \n",
            " 71   defending_marking           0 non-null      float64\n",
            " 72   defending_standing_tackle   18944 non-null  int64  \n",
            " 73   defending_sliding_tackle    18944 non-null  int64  \n",
            " 74   goalkeeping_diving          18944 non-null  int64  \n",
            " 75   goalkeeping_handling        18944 non-null  int64  \n",
            " 76   goalkeeping_kicking         18944 non-null  int64  \n",
            " 77   goalkeeping_positioning     18944 non-null  int64  \n",
            " 78   goalkeeping_reflexes        18944 non-null  int64  \n",
            " 79   ls                          18944 non-null  object \n",
            " 80   st                          18944 non-null  object \n",
            " 81   rs                          18944 non-null  object \n",
            " 82   lw                          18944 non-null  object \n",
            " 83   lf                          18944 non-null  object \n",
            " 84   cf                          18944 non-null  object \n",
            " 85   rf                          18944 non-null  object \n",
            " 86   rw                          18944 non-null  object \n",
            " 87   lam                         18944 non-null  object \n",
            " 88   cam                         18944 non-null  object \n",
            " 89   ram                         18944 non-null  object \n",
            " 90   lm                          18944 non-null  object \n",
            " 91   lcm                         18944 non-null  object \n",
            " 92   cm                          18944 non-null  object \n",
            " 93   rcm                         18944 non-null  object \n",
            " 94   rm                          18944 non-null  object \n",
            " 95   lwb                         18944 non-null  object \n",
            " 96   ldm                         18944 non-null  object \n",
            " 97   cdm                         18944 non-null  object \n",
            " 98   rdm                         18944 non-null  object \n",
            " 99   rwb                         18944 non-null  object \n",
            " 100  lb                          18944 non-null  object \n",
            " 101  lcb                         18944 non-null  object \n",
            " 102  cb                          18944 non-null  object \n",
            " 103  rcb                         18944 non-null  object \n",
            " 104  rb                          18944 non-null  object \n",
            "dtypes: float64(18), int64(43), object(44)\n",
            "memory usage: 15.3+ MB\n"
          ]
        }
      ],
      "source": [
        "df_ft.info(verbose=True, show_counts=True)"
      ]
    },
    {
      "cell_type": "markdown",
      "metadata": {
        "id": "30S7jN_AxX2c"
      },
      "source": [
        "Podemos observar que solo una columna no contiene datos que sirvan de algo, defending_marking, por lo que se puede eliminar del dataset."
      ]
    },
    {
      "cell_type": "code",
      "execution_count": null,
      "metadata": {
        "id": "ph66OLqvyIcQ"
      },
      "outputs": [],
      "source": [
        "df_ft = df_ft.drop('defending_marking', axis = 'columns')"
      ]
    },
    {
      "cell_type": "code",
      "execution_count": null,
      "metadata": {
        "id": "uLYahnB-yPtM",
        "colab": {
          "base_uri": "https://localhost:8080/",
          "height": 394
        },
        "outputId": "f0c65b98-71c1-4439-b9a9-aeab46cf52b9"
      },
      "outputs": [
        {
          "output_type": "execute_result",
          "data": {
            "text/plain": [
              "                age     height_cm     weight_kg   league_rank       overall  \\\n",
              "count  18944.000000  18944.000000  18944.000000  18719.000000  18944.000000   \n",
              "mean      25.225823    181.190773     75.016892      1.357070     65.677787   \n",
              "std        4.697354      6.825672      7.057140      0.739327      7.002278   \n",
              "min       16.000000    155.000000     50.000000      1.000000     47.000000   \n",
              "25%       21.000000    176.000000     70.000000      1.000000     61.000000   \n",
              "50%       25.000000    181.000000     75.000000      1.000000     66.000000   \n",
              "75%       29.000000    186.000000     80.000000      1.000000     70.000000   \n",
              "max       53.000000    206.000000    110.000000      4.000000     93.000000   \n",
              "\n",
              "          potential     value_eur       wage_eur  international_reputation  \\\n",
              "count  18944.000000  1.894400e+04   18944.000000              18944.000000   \n",
              "mean      71.086729  2.224813e+06    8675.852513                  1.091850   \n",
              "std        6.109985  5.102486e+06   19654.774894                  0.361841   \n",
              "min       47.000000  0.000000e+00       0.000000                  1.000000   \n",
              "25%       67.000000  3.000000e+05    1000.000000                  1.000000   \n",
              "50%       71.000000  6.500000e+05    3000.000000                  1.000000   \n",
              "75%       75.000000  1.800000e+06    7000.000000                  1.000000   \n",
              "max       95.000000  1.055000e+08  560000.000000                  5.000000   \n",
              "\n",
              "          weak_foot  ...  mentality_vision  mentality_penalties  \\\n",
              "count  18944.000000  ...      18944.000000         18944.000000   \n",
              "mean       2.936603  ...         53.828231            48.050412   \n",
              "std        0.667132  ...         13.724072            15.671721   \n",
              "min        1.000000  ...          9.000000             6.000000   \n",
              "25%        3.000000  ...         45.000000            38.750000   \n",
              "50%        3.000000  ...         55.000000            49.000000   \n",
              "75%        3.000000  ...         64.000000            60.000000   \n",
              "max        5.000000  ...         95.000000            92.000000   \n",
              "\n",
              "       mentality_composure  defending_standing_tackle  \\\n",
              "count         18944.000000               18944.000000   \n",
              "mean             57.978674                  47.581767   \n",
              "std              12.118390                  21.402461   \n",
              "min              12.000000                   5.000000   \n",
              "25%              50.000000                  27.000000   \n",
              "50%              59.000000                  55.000000   \n",
              "75%              66.000000                  65.000000   \n",
              "max              96.000000                  93.000000   \n",
              "\n",
              "       defending_sliding_tackle  goalkeeping_diving  goalkeeping_handling  \\\n",
              "count              18944.000000        18944.000000          18944.000000   \n",
              "mean                  45.546505           16.446052             16.236486   \n",
              "std                   20.953997           17.577332             16.845480   \n",
              "min                    4.000000            1.000000              1.000000   \n",
              "25%                   24.000000            8.000000              8.000000   \n",
              "50%                   52.000000           11.000000             11.000000   \n",
              "75%                   63.000000           14.000000             14.000000   \n",
              "max                   90.000000           90.000000             92.000000   \n",
              "\n",
              "       goalkeeping_kicking  goalkeeping_positioning  goalkeeping_reflexes  \n",
              "count         18944.000000             18944.000000          18944.000000  \n",
              "mean             16.103357                16.225982             16.551309  \n",
              "std              16.519399                17.017341             17.878121  \n",
              "min               1.000000                 1.000000              1.000000  \n",
              "25%               8.000000                 8.000000              8.000000  \n",
              "50%              11.000000                11.000000             11.000000  \n",
              "75%              14.000000                14.000000             14.000000  \n",
              "max              93.000000                91.000000             90.000000  \n",
              "\n",
              "[8 rows x 60 columns]"
            ],
            "text/html": [
              "\n",
              "  <div id=\"df-cc0d944f-75eb-470c-b051-d2b110e0ae89\">\n",
              "    <div class=\"colab-df-container\">\n",
              "      <div>\n",
              "<style scoped>\n",
              "    .dataframe tbody tr th:only-of-type {\n",
              "        vertical-align: middle;\n",
              "    }\n",
              "\n",
              "    .dataframe tbody tr th {\n",
              "        vertical-align: top;\n",
              "    }\n",
              "\n",
              "    .dataframe thead th {\n",
              "        text-align: right;\n",
              "    }\n",
              "</style>\n",
              "<table border=\"1\" class=\"dataframe\">\n",
              "  <thead>\n",
              "    <tr style=\"text-align: right;\">\n",
              "      <th></th>\n",
              "      <th>age</th>\n",
              "      <th>height_cm</th>\n",
              "      <th>weight_kg</th>\n",
              "      <th>league_rank</th>\n",
              "      <th>overall</th>\n",
              "      <th>potential</th>\n",
              "      <th>value_eur</th>\n",
              "      <th>wage_eur</th>\n",
              "      <th>international_reputation</th>\n",
              "      <th>weak_foot</th>\n",
              "      <th>...</th>\n",
              "      <th>mentality_vision</th>\n",
              "      <th>mentality_penalties</th>\n",
              "      <th>mentality_composure</th>\n",
              "      <th>defending_standing_tackle</th>\n",
              "      <th>defending_sliding_tackle</th>\n",
              "      <th>goalkeeping_diving</th>\n",
              "      <th>goalkeeping_handling</th>\n",
              "      <th>goalkeeping_kicking</th>\n",
              "      <th>goalkeeping_positioning</th>\n",
              "      <th>goalkeeping_reflexes</th>\n",
              "    </tr>\n",
              "  </thead>\n",
              "  <tbody>\n",
              "    <tr>\n",
              "      <th>count</th>\n",
              "      <td>18944.000000</td>\n",
              "      <td>18944.000000</td>\n",
              "      <td>18944.000000</td>\n",
              "      <td>18719.000000</td>\n",
              "      <td>18944.000000</td>\n",
              "      <td>18944.000000</td>\n",
              "      <td>1.894400e+04</td>\n",
              "      <td>18944.000000</td>\n",
              "      <td>18944.000000</td>\n",
              "      <td>18944.000000</td>\n",
              "      <td>...</td>\n",
              "      <td>18944.000000</td>\n",
              "      <td>18944.000000</td>\n",
              "      <td>18944.000000</td>\n",
              "      <td>18944.000000</td>\n",
              "      <td>18944.000000</td>\n",
              "      <td>18944.000000</td>\n",
              "      <td>18944.000000</td>\n",
              "      <td>18944.000000</td>\n",
              "      <td>18944.000000</td>\n",
              "      <td>18944.000000</td>\n",
              "    </tr>\n",
              "    <tr>\n",
              "      <th>mean</th>\n",
              "      <td>25.225823</td>\n",
              "      <td>181.190773</td>\n",
              "      <td>75.016892</td>\n",
              "      <td>1.357070</td>\n",
              "      <td>65.677787</td>\n",
              "      <td>71.086729</td>\n",
              "      <td>2.224813e+06</td>\n",
              "      <td>8675.852513</td>\n",
              "      <td>1.091850</td>\n",
              "      <td>2.936603</td>\n",
              "      <td>...</td>\n",
              "      <td>53.828231</td>\n",
              "      <td>48.050412</td>\n",
              "      <td>57.978674</td>\n",
              "      <td>47.581767</td>\n",
              "      <td>45.546505</td>\n",
              "      <td>16.446052</td>\n",
              "      <td>16.236486</td>\n",
              "      <td>16.103357</td>\n",
              "      <td>16.225982</td>\n",
              "      <td>16.551309</td>\n",
              "    </tr>\n",
              "    <tr>\n",
              "      <th>std</th>\n",
              "      <td>4.697354</td>\n",
              "      <td>6.825672</td>\n",
              "      <td>7.057140</td>\n",
              "      <td>0.739327</td>\n",
              "      <td>7.002278</td>\n",
              "      <td>6.109985</td>\n",
              "      <td>5.102486e+06</td>\n",
              "      <td>19654.774894</td>\n",
              "      <td>0.361841</td>\n",
              "      <td>0.667132</td>\n",
              "      <td>...</td>\n",
              "      <td>13.724072</td>\n",
              "      <td>15.671721</td>\n",
              "      <td>12.118390</td>\n",
              "      <td>21.402461</td>\n",
              "      <td>20.953997</td>\n",
              "      <td>17.577332</td>\n",
              "      <td>16.845480</td>\n",
              "      <td>16.519399</td>\n",
              "      <td>17.017341</td>\n",
              "      <td>17.878121</td>\n",
              "    </tr>\n",
              "    <tr>\n",
              "      <th>min</th>\n",
              "      <td>16.000000</td>\n",
              "      <td>155.000000</td>\n",
              "      <td>50.000000</td>\n",
              "      <td>1.000000</td>\n",
              "      <td>47.000000</td>\n",
              "      <td>47.000000</td>\n",
              "      <td>0.000000e+00</td>\n",
              "      <td>0.000000</td>\n",
              "      <td>1.000000</td>\n",
              "      <td>1.000000</td>\n",
              "      <td>...</td>\n",
              "      <td>9.000000</td>\n",
              "      <td>6.000000</td>\n",
              "      <td>12.000000</td>\n",
              "      <td>5.000000</td>\n",
              "      <td>4.000000</td>\n",
              "      <td>1.000000</td>\n",
              "      <td>1.000000</td>\n",
              "      <td>1.000000</td>\n",
              "      <td>1.000000</td>\n",
              "      <td>1.000000</td>\n",
              "    </tr>\n",
              "    <tr>\n",
              "      <th>25%</th>\n",
              "      <td>21.000000</td>\n",
              "      <td>176.000000</td>\n",
              "      <td>70.000000</td>\n",
              "      <td>1.000000</td>\n",
              "      <td>61.000000</td>\n",
              "      <td>67.000000</td>\n",
              "      <td>3.000000e+05</td>\n",
              "      <td>1000.000000</td>\n",
              "      <td>1.000000</td>\n",
              "      <td>3.000000</td>\n",
              "      <td>...</td>\n",
              "      <td>45.000000</td>\n",
              "      <td>38.750000</td>\n",
              "      <td>50.000000</td>\n",
              "      <td>27.000000</td>\n",
              "      <td>24.000000</td>\n",
              "      <td>8.000000</td>\n",
              "      <td>8.000000</td>\n",
              "      <td>8.000000</td>\n",
              "      <td>8.000000</td>\n",
              "      <td>8.000000</td>\n",
              "    </tr>\n",
              "    <tr>\n",
              "      <th>50%</th>\n",
              "      <td>25.000000</td>\n",
              "      <td>181.000000</td>\n",
              "      <td>75.000000</td>\n",
              "      <td>1.000000</td>\n",
              "      <td>66.000000</td>\n",
              "      <td>71.000000</td>\n",
              "      <td>6.500000e+05</td>\n",
              "      <td>3000.000000</td>\n",
              "      <td>1.000000</td>\n",
              "      <td>3.000000</td>\n",
              "      <td>...</td>\n",
              "      <td>55.000000</td>\n",
              "      <td>49.000000</td>\n",
              "      <td>59.000000</td>\n",
              "      <td>55.000000</td>\n",
              "      <td>52.000000</td>\n",
              "      <td>11.000000</td>\n",
              "      <td>11.000000</td>\n",
              "      <td>11.000000</td>\n",
              "      <td>11.000000</td>\n",
              "      <td>11.000000</td>\n",
              "    </tr>\n",
              "    <tr>\n",
              "      <th>75%</th>\n",
              "      <td>29.000000</td>\n",
              "      <td>186.000000</td>\n",
              "      <td>80.000000</td>\n",
              "      <td>1.000000</td>\n",
              "      <td>70.000000</td>\n",
              "      <td>75.000000</td>\n",
              "      <td>1.800000e+06</td>\n",
              "      <td>7000.000000</td>\n",
              "      <td>1.000000</td>\n",
              "      <td>3.000000</td>\n",
              "      <td>...</td>\n",
              "      <td>64.000000</td>\n",
              "      <td>60.000000</td>\n",
              "      <td>66.000000</td>\n",
              "      <td>65.000000</td>\n",
              "      <td>63.000000</td>\n",
              "      <td>14.000000</td>\n",
              "      <td>14.000000</td>\n",
              "      <td>14.000000</td>\n",
              "      <td>14.000000</td>\n",
              "      <td>14.000000</td>\n",
              "    </tr>\n",
              "    <tr>\n",
              "      <th>max</th>\n",
              "      <td>53.000000</td>\n",
              "      <td>206.000000</td>\n",
              "      <td>110.000000</td>\n",
              "      <td>4.000000</td>\n",
              "      <td>93.000000</td>\n",
              "      <td>95.000000</td>\n",
              "      <td>1.055000e+08</td>\n",
              "      <td>560000.000000</td>\n",
              "      <td>5.000000</td>\n",
              "      <td>5.000000</td>\n",
              "      <td>...</td>\n",
              "      <td>95.000000</td>\n",
              "      <td>92.000000</td>\n",
              "      <td>96.000000</td>\n",
              "      <td>93.000000</td>\n",
              "      <td>90.000000</td>\n",
              "      <td>90.000000</td>\n",
              "      <td>92.000000</td>\n",
              "      <td>93.000000</td>\n",
              "      <td>91.000000</td>\n",
              "      <td>90.000000</td>\n",
              "    </tr>\n",
              "  </tbody>\n",
              "</table>\n",
              "<p>8 rows × 60 columns</p>\n",
              "</div>\n",
              "      <button class=\"colab-df-convert\" onclick=\"convertToInteractive('df-cc0d944f-75eb-470c-b051-d2b110e0ae89')\"\n",
              "              title=\"Convert this dataframe to an interactive table.\"\n",
              "              style=\"display:none;\">\n",
              "        \n",
              "  <svg xmlns=\"http://www.w3.org/2000/svg\" height=\"24px\"viewBox=\"0 0 24 24\"\n",
              "       width=\"24px\">\n",
              "    <path d=\"M0 0h24v24H0V0z\" fill=\"none\"/>\n",
              "    <path d=\"M18.56 5.44l.94 2.06.94-2.06 2.06-.94-2.06-.94-.94-2.06-.94 2.06-2.06.94zm-11 1L8.5 8.5l.94-2.06 2.06-.94-2.06-.94L8.5 2.5l-.94 2.06-2.06.94zm10 10l.94 2.06.94-2.06 2.06-.94-2.06-.94-.94-2.06-.94 2.06-2.06.94z\"/><path d=\"M17.41 7.96l-1.37-1.37c-.4-.4-.92-.59-1.43-.59-.52 0-1.04.2-1.43.59L10.3 9.45l-7.72 7.72c-.78.78-.78 2.05 0 2.83L4 21.41c.39.39.9.59 1.41.59.51 0 1.02-.2 1.41-.59l7.78-7.78 2.81-2.81c.8-.78.8-2.07 0-2.86zM5.41 20L4 18.59l7.72-7.72 1.47 1.35L5.41 20z\"/>\n",
              "  </svg>\n",
              "      </button>\n",
              "      \n",
              "  <style>\n",
              "    .colab-df-container {\n",
              "      display:flex;\n",
              "      flex-wrap:wrap;\n",
              "      gap: 12px;\n",
              "    }\n",
              "\n",
              "    .colab-df-convert {\n",
              "      background-color: #E8F0FE;\n",
              "      border: none;\n",
              "      border-radius: 50%;\n",
              "      cursor: pointer;\n",
              "      display: none;\n",
              "      fill: #1967D2;\n",
              "      height: 32px;\n",
              "      padding: 0 0 0 0;\n",
              "      width: 32px;\n",
              "    }\n",
              "\n",
              "    .colab-df-convert:hover {\n",
              "      background-color: #E2EBFA;\n",
              "      box-shadow: 0px 1px 2px rgba(60, 64, 67, 0.3), 0px 1px 3px 1px rgba(60, 64, 67, 0.15);\n",
              "      fill: #174EA6;\n",
              "    }\n",
              "\n",
              "    [theme=dark] .colab-df-convert {\n",
              "      background-color: #3B4455;\n",
              "      fill: #D2E3FC;\n",
              "    }\n",
              "\n",
              "    [theme=dark] .colab-df-convert:hover {\n",
              "      background-color: #434B5C;\n",
              "      box-shadow: 0px 1px 3px 1px rgba(0, 0, 0, 0.15);\n",
              "      filter: drop-shadow(0px 1px 2px rgba(0, 0, 0, 0.3));\n",
              "      fill: #FFFFFF;\n",
              "    }\n",
              "  </style>\n",
              "\n",
              "      <script>\n",
              "        const buttonEl =\n",
              "          document.querySelector('#df-cc0d944f-75eb-470c-b051-d2b110e0ae89 button.colab-df-convert');\n",
              "        buttonEl.style.display =\n",
              "          google.colab.kernel.accessAllowed ? 'block' : 'none';\n",
              "\n",
              "        async function convertToInteractive(key) {\n",
              "          const element = document.querySelector('#df-cc0d944f-75eb-470c-b051-d2b110e0ae89');\n",
              "          const dataTable =\n",
              "            await google.colab.kernel.invokeFunction('convertToInteractive',\n",
              "                                                     [key], {});\n",
              "          if (!dataTable) return;\n",
              "\n",
              "          const docLinkHtml = 'Like what you see? Visit the ' +\n",
              "            '<a target=\"_blank\" href=https://colab.research.google.com/notebooks/data_table.ipynb>data table notebook</a>'\n",
              "            + ' to learn more about interactive tables.';\n",
              "          element.innerHTML = '';\n",
              "          dataTable['output_type'] = 'display_data';\n",
              "          await google.colab.output.renderOutput(dataTable, element);\n",
              "          const docLink = document.createElement('div');\n",
              "          docLink.innerHTML = docLinkHtml;\n",
              "          element.appendChild(docLink);\n",
              "        }\n",
              "      </script>\n",
              "    </div>\n",
              "  </div>\n",
              "  "
            ]
          },
          "metadata": {},
          "execution_count": 16
        }
      ],
      "source": [
        "df_ft.describe()"
      ]
    },
    {
      "cell_type": "markdown",
      "metadata": {
        "id": "CzLNT10Pygky"
      },
      "source": [
        "Para los campos value_eur y wage_eur podemos observar que hay bastantes valores atipicos, estos seran observados mas a detalle mas adelante con los graficos propuestos."
      ]
    },
    {
      "cell_type": "code",
      "execution_count": null,
      "metadata": {
        "id": "u7XqArxszf70",
        "colab": {
          "base_uri": "https://localhost:8080/",
          "height": 741
        },
        "outputId": "bf5f11ec-e053-4c47-c205-517756661b43"
      },
      "outputs": [
        {
          "output_type": "execute_result",
          "data": {
            "text/plain": [
              "<matplotlib.axes._subplots.AxesSubplot at 0x7fefa990e1f0>"
            ]
          },
          "metadata": {},
          "execution_count": 17
        },
        {
          "output_type": "display_data",
          "data": {
            "text/plain": [
              "<Figure size 1440x720 with 1 Axes>"
            ],
            "image/png": "[encoded data removed]"
          },
          "metadata": {
            "needs_background": "light"
          }
        }
      ],
      "source": [
        "fig, ax = plt.subplots(figsize=(20, 10))\n",
        "sns.heatmap(df_ft.isnull(),cbar=False,yticklabels=False,cmap = 'viridis')"
      ]
    },
    {
      "cell_type": "markdown",
      "metadata": {
        "id": "v4NtbNrz0ICU"
      },
      "source": [
        "Con este mapa de calor nos damos cuenta que hay muy pocas variables con datos nulos, las columnas de caracteristicas para arqueros no tendran valores para los jugadores que no juegan en esa posicion y viceversa."
      ]
    },
    {
      "cell_type": "markdown",
      "metadata": {
        "id": "IWLQvj0ZfLl0"
      },
      "source": [
        "#Exploracion del dataset y graficos de apoyo"
      ]
    },
    {
      "cell_type": "markdown",
      "metadata": {
        "id": "wy5ybNqR20du"
      },
      "source": [
        "##Media de salarios de los jugadores del listado"
      ]
    },
    {
      "cell_type": "code",
      "execution_count": null,
      "metadata": {
        "id": "lGIDoj6D2zsz",
        "colab": {
          "base_uri": "https://localhost:8080/",
          "height": 367
        },
        "outputId": "94518959-90e3-49c2-b343-d55a2758d47d"
      },
      "outputs": [
        {
          "output_type": "execute_result",
          "data": {
            "text/plain": [
              "Text(0.5, 0, 'Salario')"
            ]
          },
          "metadata": {},
          "execution_count": 18
        },
        {
          "output_type": "display_data",
          "data": {
            "text/plain": [
              "<Figure size 720x360 with 1 Axes>"
            ],
            "image/png": "[encoded data removed]"
          },
          "metadata": {
            "needs_background": "light"
          }
        }
      ],
      "source": [
        "green_diamond = dict(markerfacecolor='g', marker='D')\n",
        "fig, ax = plt.subplots(figsize=(10,5))\n",
        "ax.boxplot(df_ft['wage_eur'], vert=False, notch=True, flierprops=green_diamond)\n",
        "ax.set_title('Distribucion de salarios (en euros)')\n",
        "ax.set_xlabel('Salario')"
      ]
    },
    {
      "cell_type": "markdown",
      "metadata": {
        "id": "fpx4urPlEvUY"
      },
      "source": [
        "Se puede observar que hay bastantes valores atipicos, puesto que hay muchos jugadores que ganan muy por encima de la media de salarios. Para este ejercicio se acotara el resultado a jugadores que tengan un valor de mercado de al menos 20 millones de euros."
      ]
    },
    {
      "cell_type": "code",
      "execution_count": null,
      "metadata": {
        "id": "3X7lQEo8FJik"
      },
      "outputs": [],
      "source": [
        "#Filtra jugadores que valor de mercado sea de 20 millones de euros\n",
        "df_ft_10m = df_ft[df_ft['value_eur']>=20000000]"
      ]
    },
    {
      "cell_type": "code",
      "execution_count": null,
      "metadata": {
        "id": "08qAEGUeetRG",
        "colab": {
          "base_uri": "https://localhost:8080/",
          "height": 367
        },
        "outputId": "162b99fa-fd2d-4deb-d15f-d7875ae79c89"
      },
      "outputs": [
        {
          "output_type": "execute_result",
          "data": {
            "text/plain": [
              "Text(0.5, 0, 'Salario')"
            ]
          },
          "metadata": {},
          "execution_count": 20
        },
        {
          "output_type": "display_data",
          "data": {
            "text/plain": [
              "<Figure size 720x360 with 1 Axes>"
            ],
            "image/png": "[encoded data removed]"
          },
          "metadata": {
            "needs_background": "light"
          }
        }
      ],
      "source": [
        "#Graficamos nuevamente\n",
        "green_diamond = dict(markerfacecolor='g', marker='D')\n",
        "fig, ax = plt.subplots(figsize=(10,5))\n",
        "ax.boxplot(df_ft_10m['wage_eur'], vert=False, notch=True, flierprops=green_diamond)\n",
        "ax.set_title('Distribucion de salarios')\n",
        "ax.set_xlabel('Salario')"
      ]
    },
    {
      "cell_type": "code",
      "execution_count": null,
      "metadata": {
        "id": "vekcjwehDpp1",
        "colab": {
          "base_uri": "https://localhost:8080/",
          "height": 394
        },
        "outputId": "756a6bed-3cba-4592-de7e-11ece8c8a0d9"
      },
      "outputs": [
        {
          "output_type": "execute_result",
          "data": {
            "text/plain": [
              "              age   height_cm   weight_kg  league_rank     overall  \\\n",
              "count  268.000000  268.000000  268.000000        268.0  268.000000   \n",
              "mean    26.470149  181.317164   76.011194          1.0   83.891791   \n",
              "std      3.431928    6.982600    7.646929          0.0    2.677316   \n",
              "min     19.000000  163.000000   59.000000          1.0   78.000000   \n",
              "25%     24.000000  176.000000   70.000000          1.0   82.000000   \n",
              "50%     27.000000  181.000000   76.000000          1.0   83.000000   \n",
              "75%     29.000000  187.000000   81.000000          1.0   85.000000   \n",
              "max     35.000000  199.000000  100.000000          1.0   93.000000   \n",
              "\n",
              "        potential     value_eur       wage_eur  international_reputation  \\\n",
              "count  268.000000  2.680000e+02     268.000000                268.000000   \n",
              "mean    86.320896  3.396642e+07  110962.686567                  2.440299   \n",
              "std      2.765764  1.496171e+07   75496.784833                  0.983087   \n",
              "min     82.000000  2.000000e+07     500.000000                  1.000000   \n",
              "25%     84.000000  2.300000e+07   56750.000000                  2.000000   \n",
              "50%     86.000000  2.825000e+07   94000.000000                  3.000000   \n",
              "75%     88.000000  3.975000e+07  140000.000000                  3.000000   \n",
              "max     95.000000  1.055000e+08  560000.000000                  5.000000   \n",
              "\n",
              "        weak_foot  ...  mentality_vision  mentality_penalties  \\\n",
              "count  268.000000  ...        268.000000           268.000000   \n",
              "mean     3.361940  ...         74.910448            62.130597   \n",
              "std      0.768996  ...         11.957454            18.153984   \n",
              "min      1.000000  ...         22.000000            11.000000   \n",
              "25%      3.000000  ...         70.000000            52.750000   \n",
              "50%      3.000000  ...         78.000000            66.000000   \n",
              "75%      4.000000  ...         83.000000            75.000000   \n",
              "max      5.000000  ...         95.000000            92.000000   \n",
              "\n",
              "       mentality_composure  defending_standing_tackle  \\\n",
              "count           268.000000                 268.000000   \n",
              "mean             80.014925                  56.291045   \n",
              "std               7.500797                  25.244223   \n",
              "min              40.000000                  10.000000   \n",
              "25%              77.000000                  33.750000   \n",
              "50%              81.000000                  57.000000   \n",
              "75%              84.000000                  80.250000   \n",
              "max              96.000000                  93.000000   \n",
              "\n",
              "       defending_sliding_tackle  goalkeeping_diving  goalkeeping_handling  \\\n",
              "count                268.000000          268.000000            268.000000   \n",
              "mean                  52.503731           16.958955             16.951493   \n",
              "std                   25.455476           21.684367             20.942079   \n",
              "min                    8.000000            4.000000              3.000000   \n",
              "25%                   30.000000            8.000000              8.000000   \n",
              "50%                   51.000000           11.000000             11.000000   \n",
              "75%                   79.000000           13.000000             14.000000   \n",
              "max                   90.000000           90.000000             92.000000   \n",
              "\n",
              "       goalkeeping_kicking  goalkeeping_positioning  goalkeeping_reflexes  \n",
              "count           268.000000               268.000000            268.000000  \n",
              "mean             16.861940                16.940299             17.432836  \n",
              "std              20.165411                21.234472             22.147767  \n",
              "min               2.000000                 3.000000              3.000000  \n",
              "25%               8.000000                 8.000000              8.000000  \n",
              "50%              11.000000                11.000000             11.000000  \n",
              "75%              14.000000                14.000000             14.000000  \n",
              "max              93.000000                91.000000             90.000000  \n",
              "\n",
              "[8 rows x 60 columns]"
            ],
            "text/html": [
              "\n",
              "  <div id=\"df-3deaa0b2-0d32-4aa5-b760-be047d3ecc5c\">\n",
              "    <div class=\"colab-df-container\">\n",
              "      <div>\n",
              "<style scoped>\n",
              "    .dataframe tbody tr th:only-of-type {\n",
              "        vertical-align: middle;\n",
              "    }\n",
              "\n",
              "    .dataframe tbody tr th {\n",
              "        vertical-align: top;\n",
              "    }\n",
              "\n",
              "    .dataframe thead th {\n",
              "        text-align: right;\n",
              "    }\n",
              "</style>\n",
              "<table border=\"1\" class=\"dataframe\">\n",
              "  <thead>\n",
              "    <tr style=\"text-align: right;\">\n",
              "      <th></th>\n",
              "      <th>age</th>\n",
              "      <th>height_cm</th>\n",
              "      <th>weight_kg</th>\n",
              "      <th>league_rank</th>\n",
              "      <th>overall</th>\n",
              "      <th>potential</th>\n",
              "      <th>value_eur</th>\n",
              "      <th>wage_eur</th>\n",
              "      <th>international_reputation</th>\n",
              "      <th>weak_foot</th>\n",
              "      <th>...</th>\n",
              "      <th>mentality_vision</th>\n",
              "      <th>mentality_penalties</th>\n",
              "      <th>mentality_composure</th>\n",
              "      <th>defending_standing_tackle</th>\n",
              "      <th>defending_sliding_tackle</th>\n",
              "      <th>goalkeeping_diving</th>\n",
              "      <th>goalkeeping_handling</th>\n",
              "      <th>goalkeeping_kicking</th>\n",
              "      <th>goalkeeping_positioning</th>\n",
              "      <th>goalkeeping_reflexes</th>\n",
              "    </tr>\n",
              "  </thead>\n",
              "  <tbody>\n",
              "    <tr>\n",
              "      <th>count</th>\n",
              "      <td>268.000000</td>\n",
              "      <td>268.000000</td>\n",
              "      <td>268.000000</td>\n",
              "      <td>268.0</td>\n",
              "      <td>268.000000</td>\n",
              "      <td>268.000000</td>\n",
              "      <td>2.680000e+02</td>\n",
              "      <td>268.000000</td>\n",
              "      <td>268.000000</td>\n",
              "      <td>268.000000</td>\n",
              "      <td>...</td>\n",
              "      <td>268.000000</td>\n",
              "      <td>268.000000</td>\n",
              "      <td>268.000000</td>\n",
              "      <td>268.000000</td>\n",
              "      <td>268.000000</td>\n",
              "      <td>268.000000</td>\n",
              "      <td>268.000000</td>\n",
              "      <td>268.000000</td>\n",
              "      <td>268.000000</td>\n",
              "      <td>268.000000</td>\n",
              "    </tr>\n",
              "    <tr>\n",
              "      <th>mean</th>\n",
              "      <td>26.470149</td>\n",
              "      <td>181.317164</td>\n",
              "      <td>76.011194</td>\n",
              "      <td>1.0</td>\n",
              "      <td>83.891791</td>\n",
              "      <td>86.320896</td>\n",
              "      <td>3.396642e+07</td>\n",
              "      <td>110962.686567</td>\n",
              "      <td>2.440299</td>\n",
              "      <td>3.361940</td>\n",
              "      <td>...</td>\n",
              "      <td>74.910448</td>\n",
              "      <td>62.130597</td>\n",
              "      <td>80.014925</td>\n",
              "      <td>56.291045</td>\n",
              "      <td>52.503731</td>\n",
              "      <td>16.958955</td>\n",
              "      <td>16.951493</td>\n",
              "      <td>16.861940</td>\n",
              "      <td>16.940299</td>\n",
              "      <td>17.432836</td>\n",
              "    </tr>\n",
              "    <tr>\n",
              "      <th>std</th>\n",
              "      <td>3.431928</td>\n",
              "      <td>6.982600</td>\n",
              "      <td>7.646929</td>\n",
              "      <td>0.0</td>\n",
              "      <td>2.677316</td>\n",
              "      <td>2.765764</td>\n",
              "      <td>1.496171e+07</td>\n",
              "      <td>75496.784833</td>\n",
              "      <td>0.983087</td>\n",
              "      <td>0.768996</td>\n",
              "      <td>...</td>\n",
              "      <td>11.957454</td>\n",
              "      <td>18.153984</td>\n",
              "      <td>7.500797</td>\n",
              "      <td>25.244223</td>\n",
              "      <td>25.455476</td>\n",
              "      <td>21.684367</td>\n",
              "      <td>20.942079</td>\n",
              "      <td>20.165411</td>\n",
              "      <td>21.234472</td>\n",
              "      <td>22.147767</td>\n",
              "    </tr>\n",
              "    <tr>\n",
              "      <th>min</th>\n",
              "      <td>19.000000</td>\n",
              "      <td>163.000000</td>\n",
              "      <td>59.000000</td>\n",
              "      <td>1.0</td>\n",
              "      <td>78.000000</td>\n",
              "      <td>82.000000</td>\n",
              "      <td>2.000000e+07</td>\n",
              "      <td>500.000000</td>\n",
              "      <td>1.000000</td>\n",
              "      <td>1.000000</td>\n",
              "      <td>...</td>\n",
              "      <td>22.000000</td>\n",
              "      <td>11.000000</td>\n",
              "      <td>40.000000</td>\n",
              "      <td>10.000000</td>\n",
              "      <td>8.000000</td>\n",
              "      <td>4.000000</td>\n",
              "      <td>3.000000</td>\n",
              "      <td>2.000000</td>\n",
              "      <td>3.000000</td>\n",
              "      <td>3.000000</td>\n",
              "    </tr>\n",
              "    <tr>\n",
              "      <th>25%</th>\n",
              "      <td>24.000000</td>\n",
              "      <td>176.000000</td>\n",
              "      <td>70.000000</td>\n",
              "      <td>1.0</td>\n",
              "      <td>82.000000</td>\n",
              "      <td>84.000000</td>\n",
              "      <td>2.300000e+07</td>\n",
              "      <td>56750.000000</td>\n",
              "      <td>2.000000</td>\n",
              "      <td>3.000000</td>\n",
              "      <td>...</td>\n",
              "      <td>70.000000</td>\n",
              "      <td>52.750000</td>\n",
              "      <td>77.000000</td>\n",
              "      <td>33.750000</td>\n",
              "      <td>30.000000</td>\n",
              "      <td>8.000000</td>\n",
              "      <td>8.000000</td>\n",
              "      <td>8.000000</td>\n",
              "      <td>8.000000</td>\n",
              "      <td>8.000000</td>\n",
              "    </tr>\n",
              "    <tr>\n",
              "      <th>50%</th>\n",
              "      <td>27.000000</td>\n",
              "      <td>181.000000</td>\n",
              "      <td>76.000000</td>\n",
              "      <td>1.0</td>\n",
              "      <td>83.000000</td>\n",
              "      <td>86.000000</td>\n",
              "      <td>2.825000e+07</td>\n",
              "      <td>94000.000000</td>\n",
              "      <td>3.000000</td>\n",
              "      <td>3.000000</td>\n",
              "      <td>...</td>\n",
              "      <td>78.000000</td>\n",
              "      <td>66.000000</td>\n",
              "      <td>81.000000</td>\n",
              "      <td>57.000000</td>\n",
              "      <td>51.000000</td>\n",
              "      <td>11.000000</td>\n",
              "      <td>11.000000</td>\n",
              "      <td>11.000000</td>\n",
              "      <td>11.000000</td>\n",
              "      <td>11.000000</td>\n",
              "    </tr>\n",
              "    <tr>\n",
              "      <th>75%</th>\n",
              "      <td>29.000000</td>\n",
              "      <td>187.000000</td>\n",
              "      <td>81.000000</td>\n",
              "      <td>1.0</td>\n",
              "      <td>85.000000</td>\n",
              "      <td>88.000000</td>\n",
              "      <td>3.975000e+07</td>\n",
              "      <td>140000.000000</td>\n",
              "      <td>3.000000</td>\n",
              "      <td>4.000000</td>\n",
              "      <td>...</td>\n",
              "      <td>83.000000</td>\n",
              "      <td>75.000000</td>\n",
              "      <td>84.000000</td>\n",
              "      <td>80.250000</td>\n",
              "      <td>79.000000</td>\n",
              "      <td>13.000000</td>\n",
              "      <td>14.000000</td>\n",
              "      <td>14.000000</td>\n",
              "      <td>14.000000</td>\n",
              "      <td>14.000000</td>\n",
              "    </tr>\n",
              "    <tr>\n",
              "      <th>max</th>\n",
              "      <td>35.000000</td>\n",
              "      <td>199.000000</td>\n",
              "      <td>100.000000</td>\n",
              "      <td>1.0</td>\n",
              "      <td>93.000000</td>\n",
              "      <td>95.000000</td>\n",
              "      <td>1.055000e+08</td>\n",
              "      <td>560000.000000</td>\n",
              "      <td>5.000000</td>\n",
              "      <td>5.000000</td>\n",
              "      <td>...</td>\n",
              "      <td>95.000000</td>\n",
              "      <td>92.000000</td>\n",
              "      <td>96.000000</td>\n",
              "      <td>93.000000</td>\n",
              "      <td>90.000000</td>\n",
              "      <td>90.000000</td>\n",
              "      <td>92.000000</td>\n",
              "      <td>93.000000</td>\n",
              "      <td>91.000000</td>\n",
              "      <td>90.000000</td>\n",
              "    </tr>\n",
              "  </tbody>\n",
              "</table>\n",
              "<p>8 rows × 60 columns</p>\n",
              "</div>\n",
              "      <button class=\"colab-df-convert\" onclick=\"convertToInteractive('df-3deaa0b2-0d32-4aa5-b760-be047d3ecc5c')\"\n",
              "              title=\"Convert this dataframe to an interactive table.\"\n",
              "              style=\"display:none;\">\n",
              "        \n",
              "  <svg xmlns=\"http://www.w3.org/2000/svg\" height=\"24px\"viewBox=\"0 0 24 24\"\n",
              "       width=\"24px\">\n",
              "    <path d=\"M0 0h24v24H0V0z\" fill=\"none\"/>\n",
              "    <path d=\"M18.56 5.44l.94 2.06.94-2.06 2.06-.94-2.06-.94-.94-2.06-.94 2.06-2.06.94zm-11 1L8.5 8.5l.94-2.06 2.06-.94-2.06-.94L8.5 2.5l-.94 2.06-2.06.94zm10 10l.94 2.06.94-2.06 2.06-.94-2.06-.94-.94-2.06-.94 2.06-2.06.94z\"/><path d=\"M17.41 7.96l-1.37-1.37c-.4-.4-.92-.59-1.43-.59-.52 0-1.04.2-1.43.59L10.3 9.45l-7.72 7.72c-.78.78-.78 2.05 0 2.83L4 21.41c.39.39.9.59 1.41.59.51 0 1.02-.2 1.41-.59l7.78-7.78 2.81-2.81c.8-.78.8-2.07 0-2.86zM5.41 20L4 18.59l7.72-7.72 1.47 1.35L5.41 20z\"/>\n",
              "  </svg>\n",
              "      </button>\n",
              "      \n",
              "  <style>\n",
              "    .colab-df-container {\n",
              "      display:flex;\n",
              "      flex-wrap:wrap;\n",
              "      gap: 12px;\n",
              "    }\n",
              "\n",
              "    .colab-df-convert {\n",
              "      background-color: #E8F0FE;\n",
              "      border: none;\n",
              "      border-radius: 50%;\n",
              "      cursor: pointer;\n",
              "      display: none;\n",
              "      fill: #1967D2;\n",
              "      height: 32px;\n",
              "      padding: 0 0 0 0;\n",
              "      width: 32px;\n",
              "    }\n",
              "\n",
              "    .colab-df-convert:hover {\n",
              "      background-color: #E2EBFA;\n",
              "      box-shadow: 0px 1px 2px rgba(60, 64, 67, 0.3), 0px 1px 3px 1px rgba(60, 64, 67, 0.15);\n",
              "      fill: #174EA6;\n",
              "    }\n",
              "\n",
              "    [theme=dark] .colab-df-convert {\n",
              "      background-color: #3B4455;\n",
              "      fill: #D2E3FC;\n",
              "    }\n",
              "\n",
              "    [theme=dark] .colab-df-convert:hover {\n",
              "      background-color: #434B5C;\n",
              "      box-shadow: 0px 1px 3px 1px rgba(0, 0, 0, 0.15);\n",
              "      filter: drop-shadow(0px 1px 2px rgba(0, 0, 0, 0.3));\n",
              "      fill: #FFFFFF;\n",
              "    }\n",
              "  </style>\n",
              "\n",
              "      <script>\n",
              "        const buttonEl =\n",
              "          document.querySelector('#df-3deaa0b2-0d32-4aa5-b760-be047d3ecc5c button.colab-df-convert');\n",
              "        buttonEl.style.display =\n",
              "          google.colab.kernel.accessAllowed ? 'block' : 'none';\n",
              "\n",
              "        async function convertToInteractive(key) {\n",
              "          const element = document.querySelector('#df-3deaa0b2-0d32-4aa5-b760-be047d3ecc5c');\n",
              "          const dataTable =\n",
              "            await google.colab.kernel.invokeFunction('convertToInteractive',\n",
              "                                                     [key], {});\n",
              "          if (!dataTable) return;\n",
              "\n",
              "          const docLinkHtml = 'Like what you see? Visit the ' +\n",
              "            '<a target=\"_blank\" href=https://colab.research.google.com/notebooks/data_table.ipynb>data table notebook</a>'\n",
              "            + ' to learn more about interactive tables.';\n",
              "          element.innerHTML = '';\n",
              "          dataTable['output_type'] = 'display_data';\n",
              "          await google.colab.output.renderOutput(dataTable, element);\n",
              "          const docLink = document.createElement('div');\n",
              "          docLink.innerHTML = docLinkHtml;\n",
              "          element.appendChild(docLink);\n",
              "        }\n",
              "      </script>\n",
              "    </div>\n",
              "  </div>\n",
              "  "
            ]
          },
          "metadata": {},
          "execution_count": 21
        }
      ],
      "source": [
        "df_ft_10m.describe()"
      ]
    },
    {
      "cell_type": "markdown",
      "metadata": {
        "id": "dAUuEMGho2l6"
      },
      "source": [
        "Podemos concluir que la media de salario de los jugadores con alto valor de mercado es de alrededor de 100.000 euros mensuales, valor a tener en cuenta para agregar al valor de compra si se quiere contratar uno de estos jugadores."
      ]
    },
    {
      "cell_type": "markdown",
      "metadata": {
        "id": "q-SLkw_0ogHO"
      },
      "source": [
        "##Histograma valor de mercado de los jugadores del listado\n"
      ]
    },
    {
      "cell_type": "code",
      "execution_count": null,
      "metadata": {
        "id": "xsuxqjAUpnnE",
        "colab": {
          "base_uri": "https://localhost:8080/",
          "height": 367
        },
        "outputId": "5fddba40-3fd1-425a-9f81-c5db151bf02b"
      },
      "outputs": [
        {
          "output_type": "execute_result",
          "data": {
            "text/plain": [
              "Text(0.5, 0, 'Valor del jugador (en millones de euros)')"
            ]
          },
          "metadata": {},
          "execution_count": 22
        },
        {
          "output_type": "display_data",
          "data": {
            "text/plain": [
              "<Figure size 720x360 with 1 Axes>"
            ],
            "image/png": "[encoded data removed]"
          },
          "metadata": {
            "needs_background": "light"
          }
        }
      ],
      "source": [
        "fig, ax = plt.subplots(figsize=(10,5))\n",
        "ax.hist(df_ft['value_eur']/1000000, bins=30, facecolor='g')\n",
        "ax.grid(True)\n",
        "ax.set_title('Distribucion de valor del mercado de jugadores')\n",
        "ax.set_xlabel('Valor del jugador (en millones de euros)')"
      ]
    },
    {
      "cell_type": "markdown",
      "metadata": {
        "id": "g9hVjbciy9fq"
      },
      "source": [
        "En el anterior grafico podemos observar que el valor de la mayoria de jugadores del dataset esta por debajo de los 20 millones de dolares.\n",
        "\n",
        "Ahora veremos la distribucion de los valores de mercado por debajo de 20 millones de dolares."
      ]
    },
    {
      "cell_type": "code",
      "execution_count": null,
      "metadata": {
        "id": "71RZqSfuFGLF"
      },
      "outputs": [],
      "source": [
        "df_ft_20m = df_ft[df_ft['value_eur']<=20000000]"
      ]
    },
    {
      "cell_type": "code",
      "execution_count": null,
      "metadata": {
        "id": "TkuCLCZ5ykJm",
        "colab": {
          "base_uri": "https://localhost:8080/",
          "height": 367
        },
        "outputId": "8048a04e-a305-484c-a471-76d5b8298a64"
      },
      "outputs": [
        {
          "output_type": "execute_result",
          "data": {
            "text/plain": [
              "Text(0.5, 0, 'Valor del jugador (en millones de euros)')"
            ]
          },
          "metadata": {},
          "execution_count": 24
        },
        {
          "output_type": "display_data",
          "data": {
            "text/plain": [
              "<Figure size 720x360 with 1 Axes>"
            ],
            "image/png": "[encoded data removed]"
          },
          "metadata": {
            "needs_background": "light"
          }
        }
      ],
      "source": [
        "fig, ax = plt.subplots(figsize=(10,5))\n",
        "ax.hist(df_ft_20m['value_eur']/1000000, bins=30, facecolor='g')\n",
        "ax.grid(True)\n",
        "ax.set_title('Distribucion de valor del mercado de jugadores')\n",
        "ax.set_xlabel('Valor del jugador (en millones de euros)')"
      ]
    },
    {
      "cell_type": "code",
      "execution_count": null,
      "metadata": {
        "colab": {
          "base_uri": "https://localhost:8080/",
          "height": 394
        },
        "id": "K1y9vcYkEH0R",
        "outputId": "c6944c77-fe6e-4031-8d5d-0e8b8f9d52ed"
      },
      "outputs": [
        {
          "output_type": "execute_result",
          "data": {
            "text/plain": [
              "                age     height_cm     weight_kg   league_rank       overall  \\\n",
              "count  18689.000000  18689.000000  18689.000000  18464.000000  18689.000000   \n",
              "mean      25.207823    181.191717     75.006742      1.362002     65.427043   \n",
              "std        4.710082      6.823641      7.049836      0.743215      6.703451   \n",
              "min       16.000000    155.000000     50.000000      1.000000     47.000000   \n",
              "25%       21.000000    176.000000     70.000000      1.000000     61.000000   \n",
              "50%       25.000000    181.000000     75.000000      1.000000     65.000000   \n",
              "75%       29.000000    186.000000     80.000000      1.000000     70.000000   \n",
              "max       53.000000    206.000000    110.000000      4.000000     88.000000   \n",
              "\n",
              "          potential     value_eur       wage_eur  international_reputation  \\\n",
              "count  18689.000000  1.868900e+04   18689.000000              18689.000000   \n",
              "mean      70.878164  1.782003e+06    7246.259832                  1.073091   \n",
              "std        5.874142  2.960971e+06   12695.271990                  0.305850   \n",
              "min       47.000000  0.000000e+00       0.000000                  1.000000   \n",
              "25%       67.000000  2.750000e+05    1000.000000                  1.000000   \n",
              "50%       71.000000  6.250000e+05    3000.000000                  1.000000   \n",
              "75%       75.000000  1.600000e+06    7000.000000                  1.000000   \n",
              "max       91.000000  2.000000e+07  170000.000000                  5.000000   \n",
              "\n",
              "          weak_foot  ...  mentality_vision  mentality_penalties  \\\n",
              "count  18689.000000  ...      18689.000000         18689.000000   \n",
              "mean       2.930708  ...         53.536733            47.854353   \n",
              "std        0.663670  ...         13.515666            15.544139   \n",
              "min        1.000000  ...          9.000000             6.000000   \n",
              "25%        3.000000  ...         44.000000            38.000000   \n",
              "50%        3.000000  ...         55.000000            49.000000   \n",
              "75%        3.000000  ...         64.000000            59.000000   \n",
              "max        5.000000  ...         93.000000            92.000000   \n",
              "\n",
              "       mentality_composure  defending_standing_tackle  \\\n",
              "count         18689.000000               18689.000000   \n",
              "mean             57.675799                  47.457274   \n",
              "std              11.886370                  21.323139   \n",
              "min              12.000000                   5.000000   \n",
              "25%              50.000000                  27.000000   \n",
              "50%              59.000000                  55.000000   \n",
              "75%              66.000000                  65.000000   \n",
              "max              90.000000                  90.000000   \n",
              "\n",
              "       defending_sliding_tackle  goalkeeping_diving  goalkeeping_handling  \\\n",
              "count              18689.000000        18689.000000          18689.000000   \n",
              "mean                  45.446252           16.441918             16.229012   \n",
              "std                   20.872301           17.521222             16.787307   \n",
              "min                    4.000000            1.000000              1.000000   \n",
              "25%                   24.000000            8.000000              8.000000   \n",
              "50%                   52.000000           11.000000             11.000000   \n",
              "75%                   63.000000           14.000000             14.000000   \n",
              "max                   90.000000           88.000000             85.000000   \n",
              "\n",
              "       goalkeeping_kicking  goalkeeping_positioning  goalkeeping_reflexes  \n",
              "count         18689.000000             18689.000000          18689.000000  \n",
              "mean             16.095350                16.219755             16.543047  \n",
              "std              16.469452                16.956324             17.818781  \n",
              "min               1.000000                 1.000000              1.000000  \n",
              "25%               8.000000                 8.000000              8.000000  \n",
              "50%              11.000000                11.000000             11.000000  \n",
              "75%              14.000000                14.000000             14.000000  \n",
              "max              90.000000                91.000000             89.000000  \n",
              "\n",
              "[8 rows x 60 columns]"
            ],
            "text/html": [
              "\n",
              "  <div id=\"df-3ac47811-c471-45cf-98f2-47968d8166dd\">\n",
              "    <div class=\"colab-df-container\">\n",
              "      <div>\n",
              "<style scoped>\n",
              "    .dataframe tbody tr th:only-of-type {\n",
              "        vertical-align: middle;\n",
              "    }\n",
              "\n",
              "    .dataframe tbody tr th {\n",
              "        vertical-align: top;\n",
              "    }\n",
              "\n",
              "    .dataframe thead th {\n",
              "        text-align: right;\n",
              "    }\n",
              "</style>\n",
              "<table border=\"1\" class=\"dataframe\">\n",
              "  <thead>\n",
              "    <tr style=\"text-align: right;\">\n",
              "      <th></th>\n",
              "      <th>age</th>\n",
              "      <th>height_cm</th>\n",
              "      <th>weight_kg</th>\n",
              "      <th>league_rank</th>\n",
              "      <th>overall</th>\n",
              "      <th>potential</th>\n",
              "      <th>value_eur</th>\n",
              "      <th>wage_eur</th>\n",
              "      <th>international_reputation</th>\n",
              "      <th>weak_foot</th>\n",
              "      <th>...</th>\n",
              "      <th>mentality_vision</th>\n",
              "      <th>mentality_penalties</th>\n",
              "      <th>mentality_composure</th>\n",
              "      <th>defending_standing_tackle</th>\n",
              "      <th>defending_sliding_tackle</th>\n",
              "      <th>goalkeeping_diving</th>\n",
              "      <th>goalkeeping_handling</th>\n",
              "      <th>goalkeeping_kicking</th>\n",
              "      <th>goalkeeping_positioning</th>\n",
              "      <th>goalkeeping_reflexes</th>\n",
              "    </tr>\n",
              "  </thead>\n",
              "  <tbody>\n",
              "    <tr>\n",
              "      <th>count</th>\n",
              "      <td>18689.000000</td>\n",
              "      <td>18689.000000</td>\n",
              "      <td>18689.000000</td>\n",
              "      <td>18464.000000</td>\n",
              "      <td>18689.000000</td>\n",
              "      <td>18689.000000</td>\n",
              "      <td>1.868900e+04</td>\n",
              "      <td>18689.000000</td>\n",
              "      <td>18689.000000</td>\n",
              "      <td>18689.000000</td>\n",
              "      <td>...</td>\n",
              "      <td>18689.000000</td>\n",
              "      <td>18689.000000</td>\n",
              "      <td>18689.000000</td>\n",
              "      <td>18689.000000</td>\n",
              "      <td>18689.000000</td>\n",
              "      <td>18689.000000</td>\n",
              "      <td>18689.000000</td>\n",
              "      <td>18689.000000</td>\n",
              "      <td>18689.000000</td>\n",
              "      <td>18689.000000</td>\n",
              "    </tr>\n",
              "    <tr>\n",
              "      <th>mean</th>\n",
              "      <td>25.207823</td>\n",
              "      <td>181.191717</td>\n",
              "      <td>75.006742</td>\n",
              "      <td>1.362002</td>\n",
              "      <td>65.427043</td>\n",
              "      <td>70.878164</td>\n",
              "      <td>1.782003e+06</td>\n",
              "      <td>7246.259832</td>\n",
              "      <td>1.073091</td>\n",
              "      <td>2.930708</td>\n",
              "      <td>...</td>\n",
              "      <td>53.536733</td>\n",
              "      <td>47.854353</td>\n",
              "      <td>57.675799</td>\n",
              "      <td>47.457274</td>\n",
              "      <td>45.446252</td>\n",
              "      <td>16.441918</td>\n",
              "      <td>16.229012</td>\n",
              "      <td>16.095350</td>\n",
              "      <td>16.219755</td>\n",
              "      <td>16.543047</td>\n",
              "    </tr>\n",
              "    <tr>\n",
              "      <th>std</th>\n",
              "      <td>4.710082</td>\n",
              "      <td>6.823641</td>\n",
              "      <td>7.049836</td>\n",
              "      <td>0.743215</td>\n",
              "      <td>6.703451</td>\n",
              "      <td>5.874142</td>\n",
              "      <td>2.960971e+06</td>\n",
              "      <td>12695.271990</td>\n",
              "      <td>0.305850</td>\n",
              "      <td>0.663670</td>\n",
              "      <td>...</td>\n",
              "      <td>13.515666</td>\n",
              "      <td>15.544139</td>\n",
              "      <td>11.886370</td>\n",
              "      <td>21.323139</td>\n",
              "      <td>20.872301</td>\n",
              "      <td>17.521222</td>\n",
              "      <td>16.787307</td>\n",
              "      <td>16.469452</td>\n",
              "      <td>16.956324</td>\n",
              "      <td>17.818781</td>\n",
              "    </tr>\n",
              "    <tr>\n",
              "      <th>min</th>\n",
              "      <td>16.000000</td>\n",
              "      <td>155.000000</td>\n",
              "      <td>50.000000</td>\n",
              "      <td>1.000000</td>\n",
              "      <td>47.000000</td>\n",
              "      <td>47.000000</td>\n",
              "      <td>0.000000e+00</td>\n",
              "      <td>0.000000</td>\n",
              "      <td>1.000000</td>\n",
              "      <td>1.000000</td>\n",
              "      <td>...</td>\n",
              "      <td>9.000000</td>\n",
              "      <td>6.000000</td>\n",
              "      <td>12.000000</td>\n",
              "      <td>5.000000</td>\n",
              "      <td>4.000000</td>\n",
              "      <td>1.000000</td>\n",
              "      <td>1.000000</td>\n",
              "      <td>1.000000</td>\n",
              "      <td>1.000000</td>\n",
              "      <td>1.000000</td>\n",
              "    </tr>\n",
              "    <tr>\n",
              "      <th>25%</th>\n",
              "      <td>21.000000</td>\n",
              "      <td>176.000000</td>\n",
              "      <td>70.000000</td>\n",
              "      <td>1.000000</td>\n",
              "      <td>61.000000</td>\n",
              "      <td>67.000000</td>\n",
              "      <td>2.750000e+05</td>\n",
              "      <td>1000.000000</td>\n",
              "      <td>1.000000</td>\n",
              "      <td>3.000000</td>\n",
              "      <td>...</td>\n",
              "      <td>44.000000</td>\n",
              "      <td>38.000000</td>\n",
              "      <td>50.000000</td>\n",
              "      <td>27.000000</td>\n",
              "      <td>24.000000</td>\n",
              "      <td>8.000000</td>\n",
              "      <td>8.000000</td>\n",
              "      <td>8.000000</td>\n",
              "      <td>8.000000</td>\n",
              "      <td>8.000000</td>\n",
              "    </tr>\n",
              "    <tr>\n",
              "      <th>50%</th>\n",
              "      <td>25.000000</td>\n",
              "      <td>181.000000</td>\n",
              "      <td>75.000000</td>\n",
              "      <td>1.000000</td>\n",
              "      <td>65.000000</td>\n",
              "      <td>71.000000</td>\n",
              "      <td>6.250000e+05</td>\n",
              "      <td>3000.000000</td>\n",
              "      <td>1.000000</td>\n",
              "      <td>3.000000</td>\n",
              "      <td>...</td>\n",
              "      <td>55.000000</td>\n",
              "      <td>49.000000</td>\n",
              "      <td>59.000000</td>\n",
              "      <td>55.000000</td>\n",
              "      <td>52.000000</td>\n",
              "      <td>11.000000</td>\n",
              "      <td>11.000000</td>\n",
              "      <td>11.000000</td>\n",
              "      <td>11.000000</td>\n",
              "      <td>11.000000</td>\n",
              "    </tr>\n",
              "    <tr>\n",
              "      <th>75%</th>\n",
              "      <td>29.000000</td>\n",
              "      <td>186.000000</td>\n",
              "      <td>80.000000</td>\n",
              "      <td>1.000000</td>\n",
              "      <td>70.000000</td>\n",
              "      <td>75.000000</td>\n",
              "      <td>1.600000e+06</td>\n",
              "      <td>7000.000000</td>\n",
              "      <td>1.000000</td>\n",
              "      <td>3.000000</td>\n",
              "      <td>...</td>\n",
              "      <td>64.000000</td>\n",
              "      <td>59.000000</td>\n",
              "      <td>66.000000</td>\n",
              "      <td>65.000000</td>\n",
              "      <td>63.000000</td>\n",
              "      <td>14.000000</td>\n",
              "      <td>14.000000</td>\n",
              "      <td>14.000000</td>\n",
              "      <td>14.000000</td>\n",
              "      <td>14.000000</td>\n",
              "    </tr>\n",
              "    <tr>\n",
              "      <th>max</th>\n",
              "      <td>53.000000</td>\n",
              "      <td>206.000000</td>\n",
              "      <td>110.000000</td>\n",
              "      <td>4.000000</td>\n",
              "      <td>88.000000</td>\n",
              "      <td>91.000000</td>\n",
              "      <td>2.000000e+07</td>\n",
              "      <td>170000.000000</td>\n",
              "      <td>5.000000</td>\n",
              "      <td>5.000000</td>\n",
              "      <td>...</td>\n",
              "      <td>93.000000</td>\n",
              "      <td>92.000000</td>\n",
              "      <td>90.000000</td>\n",
              "      <td>90.000000</td>\n",
              "      <td>90.000000</td>\n",
              "      <td>88.000000</td>\n",
              "      <td>85.000000</td>\n",
              "      <td>90.000000</td>\n",
              "      <td>91.000000</td>\n",
              "      <td>89.000000</td>\n",
              "    </tr>\n",
              "  </tbody>\n",
              "</table>\n",
              "<p>8 rows × 60 columns</p>\n",
              "</div>\n",
              "      <button class=\"colab-df-convert\" onclick=\"convertToInteractive('df-3ac47811-c471-45cf-98f2-47968d8166dd')\"\n",
              "              title=\"Convert this dataframe to an interactive table.\"\n",
              "              style=\"display:none;\">\n",
              "        \n",
              "  <svg xmlns=\"http://www.w3.org/2000/svg\" height=\"24px\"viewBox=\"0 0 24 24\"\n",
              "       width=\"24px\">\n",
              "    <path d=\"M0 0h24v24H0V0z\" fill=\"none\"/>\n",
              "    <path d=\"M18.56 5.44l.94 2.06.94-2.06 2.06-.94-2.06-.94-.94-2.06-.94 2.06-2.06.94zm-11 1L8.5 8.5l.94-2.06 2.06-.94-2.06-.94L8.5 2.5l-.94 2.06-2.06.94zm10 10l.94 2.06.94-2.06 2.06-.94-2.06-.94-.94-2.06-.94 2.06-2.06.94z\"/><path d=\"M17.41 7.96l-1.37-1.37c-.4-.4-.92-.59-1.43-.59-.52 0-1.04.2-1.43.59L10.3 9.45l-7.72 7.72c-.78.78-.78 2.05 0 2.83L4 21.41c.39.39.9.59 1.41.59.51 0 1.02-.2 1.41-.59l7.78-7.78 2.81-2.81c.8-.78.8-2.07 0-2.86zM5.41 20L4 18.59l7.72-7.72 1.47 1.35L5.41 20z\"/>\n",
              "  </svg>\n",
              "      </button>\n",
              "      \n",
              "  <style>\n",
              "    .colab-df-container {\n",
              "      display:flex;\n",
              "      flex-wrap:wrap;\n",
              "      gap: 12px;\n",
              "    }\n",
              "\n",
              "    .colab-df-convert {\n",
              "      background-color: #E8F0FE;\n",
              "      border: none;\n",
              "      border-radius: 50%;\n",
              "      cursor: pointer;\n",
              "      display: none;\n",
              "      fill: #1967D2;\n",
              "      height: 32px;\n",
              "      padding: 0 0 0 0;\n",
              "      width: 32px;\n",
              "    }\n",
              "\n",
              "    .colab-df-convert:hover {\n",
              "      background-color: #E2EBFA;\n",
              "      box-shadow: 0px 1px 2px rgba(60, 64, 67, 0.3), 0px 1px 3px 1px rgba(60, 64, 67, 0.15);\n",
              "      fill: #174EA6;\n",
              "    }\n",
              "\n",
              "    [theme=dark] .colab-df-convert {\n",
              "      background-color: #3B4455;\n",
              "      fill: #D2E3FC;\n",
              "    }\n",
              "\n",
              "    [theme=dark] .colab-df-convert:hover {\n",
              "      background-color: #434B5C;\n",
              "      box-shadow: 0px 1px 3px 1px rgba(0, 0, 0, 0.15);\n",
              "      filter: drop-shadow(0px 1px 2px rgba(0, 0, 0, 0.3));\n",
              "      fill: #FFFFFF;\n",
              "    }\n",
              "  </style>\n",
              "\n",
              "      <script>\n",
              "        const buttonEl =\n",
              "          document.querySelector('#df-3ac47811-c471-45cf-98f2-47968d8166dd button.colab-df-convert');\n",
              "        buttonEl.style.display =\n",
              "          google.colab.kernel.accessAllowed ? 'block' : 'none';\n",
              "\n",
              "        async function convertToInteractive(key) {\n",
              "          const element = document.querySelector('#df-3ac47811-c471-45cf-98f2-47968d8166dd');\n",
              "          const dataTable =\n",
              "            await google.colab.kernel.invokeFunction('convertToInteractive',\n",
              "                                                     [key], {});\n",
              "          if (!dataTable) return;\n",
              "\n",
              "          const docLinkHtml = 'Like what you see? Visit the ' +\n",
              "            '<a target=\"_blank\" href=https://colab.research.google.com/notebooks/data_table.ipynb>data table notebook</a>'\n",
              "            + ' to learn more about interactive tables.';\n",
              "          element.innerHTML = '';\n",
              "          dataTable['output_type'] = 'display_data';\n",
              "          await google.colab.output.renderOutput(dataTable, element);\n",
              "          const docLink = document.createElement('div');\n",
              "          docLink.innerHTML = docLinkHtml;\n",
              "          element.appendChild(docLink);\n",
              "        }\n",
              "      </script>\n",
              "    </div>\n",
              "  </div>\n",
              "  "
            ]
          },
          "metadata": {},
          "execution_count": 25
        }
      ],
      "source": [
        "df_ft_20m.describe()"
      ]
    },
    {
      "cell_type": "markdown",
      "metadata": {
        "id": "AtefU5GoGSGz"
      },
      "source": [
        "Tenemos la misma distribucion, esta vez con la mayoria de jugadores con valores menores a 2.5 millones de euros"
      ]
    },
    {
      "cell_type": "markdown",
      "source": [
        "##Numero de jugadores por pais"
      ],
      "metadata": {
        "id": "ZxHqIbaGyPv0"
      }
    },
    {
      "cell_type": "code",
      "source": [
        "df_ft_paises = df_ft.groupby('nationality').size().reset_index(name='counts')\n",
        "df_ft_paises.sort_values(ascending=False, inplace=True, by='counts')\n",
        "df_ft_paises.head()"
      ],
      "metadata": {
        "colab": {
          "base_uri": "https://localhost:8080/",
          "height": 206
        },
        "id": "SM5A4pe6ygQj",
        "outputId": "7034a592-4ca5-4dce-f22e-f3c40eb15f94"
      },
      "execution_count": null,
      "outputs": [
        {
          "output_type": "execute_result",
          "data": {
            "text/plain": [
              "    nationality  counts\n",
              "47      England    1685\n",
              "58      Germany    1189\n",
              "140       Spain    1072\n",
              "54       France     984\n",
              "6     Argentina     936"
            ],
            "text/html": [
              "\n",
              "  <div id=\"df-1b3f0c63-1368-476c-9fb4-16cdf1b5dd2e\">\n",
              "    <div class=\"colab-df-container\">\n",
              "      <div>\n",
              "<style scoped>\n",
              "    .dataframe tbody tr th:only-of-type {\n",
              "        vertical-align: middle;\n",
              "    }\n",
              "\n",
              "    .dataframe tbody tr th {\n",
              "        vertical-align: top;\n",
              "    }\n",
              "\n",
              "    .dataframe thead th {\n",
              "        text-align: right;\n",
              "    }\n",
              "</style>\n",
              "<table border=\"1\" class=\"dataframe\">\n",
              "  <thead>\n",
              "    <tr style=\"text-align: right;\">\n",
              "      <th></th>\n",
              "      <th>nationality</th>\n",
              "      <th>counts</th>\n",
              "    </tr>\n",
              "  </thead>\n",
              "  <tbody>\n",
              "    <tr>\n",
              "      <th>47</th>\n",
              "      <td>England</td>\n",
              "      <td>1685</td>\n",
              "    </tr>\n",
              "    <tr>\n",
              "      <th>58</th>\n",
              "      <td>Germany</td>\n",
              "      <td>1189</td>\n",
              "    </tr>\n",
              "    <tr>\n",
              "      <th>140</th>\n",
              "      <td>Spain</td>\n",
              "      <td>1072</td>\n",
              "    </tr>\n",
              "    <tr>\n",
              "      <th>54</th>\n",
              "      <td>France</td>\n",
              "      <td>984</td>\n",
              "    </tr>\n",
              "    <tr>\n",
              "      <th>6</th>\n",
              "      <td>Argentina</td>\n",
              "      <td>936</td>\n",
              "    </tr>\n",
              "  </tbody>\n",
              "</table>\n",
              "</div>\n",
              "      <button class=\"colab-df-convert\" onclick=\"convertToInteractive('df-1b3f0c63-1368-476c-9fb4-16cdf1b5dd2e')\"\n",
              "              title=\"Convert this dataframe to an interactive table.\"\n",
              "              style=\"display:none;\">\n",
              "        \n",
              "  <svg xmlns=\"http://www.w3.org/2000/svg\" height=\"24px\"viewBox=\"0 0 24 24\"\n",
              "       width=\"24px\">\n",
              "    <path d=\"M0 0h24v24H0V0z\" fill=\"none\"/>\n",
              "    <path d=\"M18.56 5.44l.94 2.06.94-2.06 2.06-.94-2.06-.94-.94-2.06-.94 2.06-2.06.94zm-11 1L8.5 8.5l.94-2.06 2.06-.94-2.06-.94L8.5 2.5l-.94 2.06-2.06.94zm10 10l.94 2.06.94-2.06 2.06-.94-2.06-.94-.94-2.06-.94 2.06-2.06.94z\"/><path d=\"M17.41 7.96l-1.37-1.37c-.4-.4-.92-.59-1.43-.59-.52 0-1.04.2-1.43.59L10.3 9.45l-7.72 7.72c-.78.78-.78 2.05 0 2.83L4 21.41c.39.39.9.59 1.41.59.51 0 1.02-.2 1.41-.59l7.78-7.78 2.81-2.81c.8-.78.8-2.07 0-2.86zM5.41 20L4 18.59l7.72-7.72 1.47 1.35L5.41 20z\"/>\n",
              "  </svg>\n",
              "      </button>\n",
              "      \n",
              "  <style>\n",
              "    .colab-df-container {\n",
              "      display:flex;\n",
              "      flex-wrap:wrap;\n",
              "      gap: 12px;\n",
              "    }\n",
              "\n",
              "    .colab-df-convert {\n",
              "      background-color: #E8F0FE;\n",
              "      border: none;\n",
              "      border-radius: 50%;\n",
              "      cursor: pointer;\n",
              "      display: none;\n",
              "      fill: #1967D2;\n",
              "      height: 32px;\n",
              "      padding: 0 0 0 0;\n",
              "      width: 32px;\n",
              "    }\n",
              "\n",
              "    .colab-df-convert:hover {\n",
              "      background-color: #E2EBFA;\n",
              "      box-shadow: 0px 1px 2px rgba(60, 64, 67, 0.3), 0px 1px 3px 1px rgba(60, 64, 67, 0.15);\n",
              "      fill: #174EA6;\n",
              "    }\n",
              "\n",
              "    [theme=dark] .colab-df-convert {\n",
              "      background-color: #3B4455;\n",
              "      fill: #D2E3FC;\n",
              "    }\n",
              "\n",
              "    [theme=dark] .colab-df-convert:hover {\n",
              "      background-color: #434B5C;\n",
              "      box-shadow: 0px 1px 3px 1px rgba(0, 0, 0, 0.15);\n",
              "      filter: drop-shadow(0px 1px 2px rgba(0, 0, 0, 0.3));\n",
              "      fill: #FFFFFF;\n",
              "    }\n",
              "  </style>\n",
              "\n",
              "      <script>\n",
              "        const buttonEl =\n",
              "          document.querySelector('#df-1b3f0c63-1368-476c-9fb4-16cdf1b5dd2e button.colab-df-convert');\n",
              "        buttonEl.style.display =\n",
              "          google.colab.kernel.accessAllowed ? 'block' : 'none';\n",
              "\n",
              "        async function convertToInteractive(key) {\n",
              "          const element = document.querySelector('#df-1b3f0c63-1368-476c-9fb4-16cdf1b5dd2e');\n",
              "          const dataTable =\n",
              "            await google.colab.kernel.invokeFunction('convertToInteractive',\n",
              "                                                     [key], {});\n",
              "          if (!dataTable) return;\n",
              "\n",
              "          const docLinkHtml = 'Like what you see? Visit the ' +\n",
              "            '<a target=\"_blank\" href=https://colab.research.google.com/notebooks/data_table.ipynb>data table notebook</a>'\n",
              "            + ' to learn more about interactive tables.';\n",
              "          element.innerHTML = '';\n",
              "          dataTable['output_type'] = 'display_data';\n",
              "          await google.colab.output.renderOutput(dataTable, element);\n",
              "          const docLink = document.createElement('div');\n",
              "          docLink.innerHTML = docLinkHtml;\n",
              "          element.appendChild(docLink);\n",
              "        }\n",
              "      </script>\n",
              "    </div>\n",
              "  </div>\n",
              "  "
            ]
          },
          "metadata": {},
          "execution_count": 26
        }
      ]
    },
    {
      "cell_type": "code",
      "source": [
        "#creamos el grafico de distribucion de jugadores por pais\n",
        "import plotly.express as px\n",
        "fig = px.choropleth(df_ft_paises, locationmode='country names', locations='nationality', color='counts',\n",
        "                           labels={'counts':'Numero de jugadores'}\n",
        "                          )\n",
        "fig.show()"
      ],
      "metadata": {
        "colab": {
          "base_uri": "https://localhost:8080/",
          "height": 542
        },
        "id": "ViZQ2h6ay4Da",
        "outputId": "1c51edf1-8691-47b8-9697-c355f482ed8d"
      },
      "execution_count": null,
      "outputs": [
        {
          "output_type": "display_data",
          "data": {
            "text/html": [
              "<html>\n",
              "<head><meta charset=\"utf-8\" /></head>\n",
              "<body>\n",
              "    <div>            <script src=\"https://cdnjs.cloudflare.com/ajax/libs/mathjax/2.7.5/MathJax.js?config=TeX-AMS-MML_SVG\"></script><script type=\"text/javascript\">if (window.MathJax) {MathJax.Hub.Config({SVG: {font: \"STIX-Web\"}});}</script>                <script type=\"text/javascript\">window.PlotlyConfig = {MathJaxConfig: 'local'};</script>\n",
              "        <script src=\"https://cdn.plot.ly/plotly-2.8.3.min.js\"></script>                <div id=\"5412f6bc-24a5-4d29-8483-2dc376939a46\" class=\"plotly-graph-div\" style=\"height:525px; width:100%;\"></div>            <script type=\"text/javascript\">                                    window.PLOTLYENV=window.PLOTLYENV || {};                                    if (document.getElementById(\"5412f6bc-24a5-4d29-8483-2dc376939a46\")) {                    Plotly.newPlot(                        \"5412f6bc-24a5-4d29-8483-2dc376939a46\",                        [{\"coloraxis\":\"coloraxis\",\"geo\":\"geo\",\"hovertemplate\":\"nationality=%{location}<br>Numero de jugadores=%{z}<extra></extra>\",\"locationmode\":\"country names\",\"locations\":[\"England\",\"Germany\",\"Spain\",\"France\",\"Argentina\",\"Brazil\",\"Japan\",\"Netherlands\",\"Italy\",\"United States\",\"Sweden\",\"China PR\",\"Norway\",\"Mexico\",\"Poland\",\"Portugal\",\"Uruguay\",\"Turkey\",\"Korea Republic\",\"Colombia\",\"Republic of Ireland\",\"Romania\",\"Austria\",\"Saudi Arabia\",\"Denmark\",\"Belgium\",\"Scotland\",\"Ecuador\",\"Australia\",\"Paraguay\",\"Switzerland\",\"Venezuela\",\"Chile\",\"Peru\",\"Bolivia\",\"Croatia\",\"Serbia\",\"Senegal\",\"Nigeria\",\"Wales\",\"Ghana\",\"Czech Republic\",\"Ivory Coast\",\"Greece\",\"Morocco\",\"Northern Ireland\",\"Canada\",\"Cameroon\",\"Russia\",\"South Africa\",\"Slovakia\",\"Bosnia Herzegovina\",\"Ukraine\",\"DR Congo\",\"Finland\",\"Iceland\",\"Slovenia\",\"Algeria\",\"Mali\",\"Albania\",\"Kosovo\",\"New Zealand\",\"Hungary\",\"Bulgaria\",\"Tunisia\",\"Guinea\",\"Montenegro\",\"Costa Rica\",\"Egypt\",\"North Macedonia\",\"Gambia\",\"Jamaica\",\"Cape Verde\",\"India\",\"United Arab Emirates\",\"Georgia\",\"Burkina Faso\",\"Israel\",\"Gabon\",\"Honduras\",\"Congo\",\"Angola\",\"Guinea Bissau\",\"Iran\",\"Togo\",\"Curacao\",\"Comoros\",\"Moldova\",\"Luxembourg\",\"Benin\",\"Zambia\",\"Panama\",\"Zimbabwe\",\"Lithuania\",\"Kenya\",\"Haiti\",\"Guyana\",\"Madagascar\",\"Uganda\",\"Sierra Leone\",\"Burundi\",\"Latvia\",\"Mauritania\",\"Uzbekistan\",\"Cyprus\",\"Trinidad & Tobago\",\"Kazakhstan\",\"Equatorial Guinea\",\"Azerbaijan\",\"Mozambique\",\"Estonia\",\"Cuba\",\"Faroe Islands\",\"Liechtenstein\",\"Grenada\",\"Libya\",\"Sudan\",\"El Salvador\",\"Liberia\",\"Dominican Republic\",\"Thailand\",\"Syria\",\"Central African Republic\",\"Armenia\",\"Niger\",\"Antigua & Barbuda\",\"Iraq\",\"Belarus\",\"Namibia\",\"Montserrat\",\"Philippines\",\"Lebanon\",\"Saint Kitts and Nevis\",\"Eritrea\",\"Belize\",\"Chinese Taipei\",\"Palestine\",\"South Sudan\",\"Afghanistan\",\"Jordan\",\"Ethiopia\",\"Hong Kong\",\"Malawi\",\"Andorra\",\"Nicaragua\",\"Indonesia\",\"Aruba\",\"Malta\",\"Barbados\",\"Malaysia\",\"Bermuda\",\"Chad\",\"Korea DPR\",\"Guam\",\"New Caledonia\",\"Macau\",\"Tanzania\",\"Saint Lucia\",\"Papua New Guinea\",\"Rwanda\",\"Puerto Rico\",\"S\\u00e3o Tom\\u00e9 & Pr\\u00edncipe\"],\"name\":\"\",\"z\":[1685,1189,1072,984,936,887,489,432,421,378,372,364,363,362,360,353,349,344,341,338,338,324,321,317,300,298,287,252,241,235,211,198,191,161,146,132,130,128,126,124,118,111,105,103,80,80,78,77,77,72,68,66,65,65,65,54,52,52,50,49,46,44,39,38,33,30,30,29,29,26,24,24,23,23,22,22,19,19,16,16,16,16,15,15,14,13,12,12,11,11,11,11,11,10,10,10,10,9,9,9,7,7,7,7,7,6,6,6,6,5,5,5,5,5,4,4,4,4,4,4,4,4,4,4,4,4,4,3,3,3,3,3,2,2,2,2,2,2,2,2,2,2,1,1,1,1,1,1,1,1,1,1,1,1,1,1,1,1,1,1,1,1],\"type\":\"choropleth\"}],                        {\"template\":{\"data\":{\"bar\":[{\"error_x\":{\"color\":\"#2a3f5f\"},\"error_y\":{\"color\":\"#2a3f5f\"},\"marker\":{\"line\":{\"color\":\"#E5ECF6\",\"width\":0.5},\"pattern\":{\"fillmode\":\"overlay\",\"size\":10,\"solidity\":0.2}},\"type\":\"bar\"}],\"barpolar\":[{\"marker\":{\"line\":{\"color\":\"#E5ECF6\",\"width\":0.5},\"pattern\":{\"fillmode\":\"overlay\",\"size\":10,\"solidity\":0.2}},\"type\":\"barpolar\"}],\"carpet\":[{\"aaxis\":{\"endlinecolor\":\"#2a3f5f\",\"gridcolor\":\"white\",\"linecolor\":\"white\",\"minorgridcolor\":\"white\",\"startlinecolor\":\"#2a3f5f\"},\"baxis\":{\"endlinecolor\":\"#2a3f5f\",\"gridcolor\":\"white\",\"linecolor\":\"white\",\"minorgridcolor\":\"white\",\"startlinecolor\":\"#2a3f5f\"},\"type\":\"carpet\"}],\"choropleth\":[{\"colorbar\":{\"outlinewidth\":0,\"ticks\":\"\"},\"type\":\"choropleth\"}],\"contour\":[{\"colorbar\":{\"outlinewidth\":0,\"ticks\":\"\"},\"colorscale\":[[0.0,\"#0d0887\"],[0.1111111111111111,\"#46039f\"],[0.2222222222222222,\"#7201a8\"],[0.3333333333333333,\"#9c179e\"],[0.4444444444444444,\"#bd3786\"],[0.5555555555555556,\"#d8576b\"],[0.6666666666666666,\"#ed7953\"],[0.7777777777777778,\"#fb9f3a\"],[0.8888888888888888,\"#fdca26\"],[1.0,\"#f0f921\"]],\"type\":\"contour\"}],\"contourcarpet\":[{\"colorbar\":{\"outlinewidth\":0,\"ticks\":\"\"},\"type\":\"contourcarpet\"}],\"heatmap\":[{\"colorbar\":{\"outlinewidth\":0,\"ticks\":\"\"},\"colorscale\":[[0.0,\"#0d0887\"],[0.1111111111111111,\"#46039f\"],[0.2222222222222222,\"#7201a8\"],[0.3333333333333333,\"#9c179e\"],[0.4444444444444444,\"#bd3786\"],[0.5555555555555556,\"#d8576b\"],[0.6666666666666666,\"#ed7953\"],[0.7777777777777778,\"#fb9f3a\"],[0.8888888888888888,\"#fdca26\"],[1.0,\"#f0f921\"]],\"type\":\"heatmap\"}],\"heatmapgl\":[{\"colorbar\":{\"outlinewidth\":0,\"ticks\":\"\"},\"colorscale\":[[0.0,\"#0d0887\"],[0.1111111111111111,\"#46039f\"],[0.2222222222222222,\"#7201a8\"],[0.3333333333333333,\"#9c179e\"],[0.4444444444444444,\"#bd3786\"],[0.5555555555555556,\"#d8576b\"],[0.6666666666666666,\"#ed7953\"],[0.7777777777777778,\"#fb9f3a\"],[0.8888888888888888,\"#fdca26\"],[1.0,\"#f0f921\"]],\"type\":\"heatmapgl\"}],\"histogram\":[{\"marker\":{\"pattern\":{\"fillmode\":\"overlay\",\"size\":10,\"solidity\":0.2}},\"type\":\"histogram\"}],\"histogram2d\":[{\"colorbar\":{\"outlinewidth\":0,\"ticks\":\"\"},\"colorscale\":[[0.0,\"#0d0887\"],[0.1111111111111111,\"#46039f\"],[0.2222222222222222,\"#7201a8\"],[0.3333333333333333,\"#9c179e\"],[0.4444444444444444,\"#bd3786\"],[0.5555555555555556,\"#d8576b\"],[0.6666666666666666,\"#ed7953\"],[0.7777777777777778,\"#fb9f3a\"],[0.8888888888888888,\"#fdca26\"],[1.0,\"#f0f921\"]],\"type\":\"histogram2d\"}],\"histogram2dcontour\":[{\"colorbar\":{\"outlinewidth\":0,\"ticks\":\"\"},\"colorscale\":[[0.0,\"#0d0887\"],[0.1111111111111111,\"#46039f\"],[0.2222222222222222,\"#7201a8\"],[0.3333333333333333,\"#9c179e\"],[0.4444444444444444,\"#bd3786\"],[0.5555555555555556,\"#d8576b\"],[0.6666666666666666,\"#ed7953\"],[0.7777777777777778,\"#fb9f3a\"],[0.8888888888888888,\"#fdca26\"],[1.0,\"#f0f921\"]],\"type\":\"histogram2dcontour\"}],\"mesh3d\":[{\"colorbar\":{\"outlinewidth\":0,\"ticks\":\"\"},\"type\":\"mesh3d\"}],\"parcoords\":[{\"line\":{\"colorbar\":{\"outlinewidth\":0,\"ticks\":\"\"}},\"type\":\"parcoords\"}],\"pie\":[{\"automargin\":true,\"type\":\"pie\"}],\"scatter\":[{\"marker\":{\"colorbar\":{\"outlinewidth\":0,\"ticks\":\"\"}},\"type\":\"scatter\"}],\"scatter3d\":[{\"line\":{\"colorbar\":{\"outlinewidth\":0,\"ticks\":\"\"}},\"marker\":{\"colorbar\":{\"outlinewidth\":0,\"ticks\":\"\"}},\"type\":\"scatter3d\"}],\"scattercarpet\":[{\"marker\":{\"colorbar\":{\"outlinewidth\":0,\"ticks\":\"\"}},\"type\":\"scattercarpet\"}],\"scattergeo\":[{\"marker\":{\"colorbar\":{\"outlinewidth\":0,\"ticks\":\"\"}},\"type\":\"scattergeo\"}],\"scattergl\":[{\"marker\":{\"colorbar\":{\"outlinewidth\":0,\"ticks\":\"\"}},\"type\":\"scattergl\"}],\"scattermapbox\":[{\"marker\":{\"colorbar\":{\"outlinewidth\":0,\"ticks\":\"\"}},\"type\":\"scattermapbox\"}],\"scatterpolar\":[{\"marker\":{\"colorbar\":{\"outlinewidth\":0,\"ticks\":\"\"}},\"type\":\"scatterpolar\"}],\"scatterpolargl\":[{\"marker\":{\"colorbar\":{\"outlinewidth\":0,\"ticks\":\"\"}},\"type\":\"scatterpolargl\"}],\"scatterternary\":[{\"marker\":{\"colorbar\":{\"outlinewidth\":0,\"ticks\":\"\"}},\"type\":\"scatterternary\"}],\"surface\":[{\"colorbar\":{\"outlinewidth\":0,\"ticks\":\"\"},\"colorscale\":[[0.0,\"#0d0887\"],[0.1111111111111111,\"#46039f\"],[0.2222222222222222,\"#7201a8\"],[0.3333333333333333,\"#9c179e\"],[0.4444444444444444,\"#bd3786\"],[0.5555555555555556,\"#d8576b\"],[0.6666666666666666,\"#ed7953\"],[0.7777777777777778,\"#fb9f3a\"],[0.8888888888888888,\"#fdca26\"],[1.0,\"#f0f921\"]],\"type\":\"surface\"}],\"table\":[{\"cells\":{\"fill\":{\"color\":\"#EBF0F8\"},\"line\":{\"color\":\"white\"}},\"header\":{\"fill\":{\"color\":\"#C8D4E3\"},\"line\":{\"color\":\"white\"}},\"type\":\"table\"}]},\"layout\":{\"annotationdefaults\":{\"arrowcolor\":\"#2a3f5f\",\"arrowhead\":0,\"arrowwidth\":1},\"autotypenumbers\":\"strict\",\"coloraxis\":{\"colorbar\":{\"outlinewidth\":0,\"ticks\":\"\"}},\"colorscale\":{\"diverging\":[[0,\"#8e0152\"],[0.1,\"#c51b7d\"],[0.2,\"#de77ae\"],[0.3,\"#f1b6da\"],[0.4,\"#fde0ef\"],[0.5,\"#f7f7f7\"],[0.6,\"#e6f5d0\"],[0.7,\"#b8e186\"],[0.8,\"#7fbc41\"],[0.9,\"#4d9221\"],[1,\"#276419\"]],\"sequential\":[[0.0,\"#0d0887\"],[0.1111111111111111,\"#46039f\"],[0.2222222222222222,\"#7201a8\"],[0.3333333333333333,\"#9c179e\"],[0.4444444444444444,\"#bd3786\"],[0.5555555555555556,\"#d8576b\"],[0.6666666666666666,\"#ed7953\"],[0.7777777777777778,\"#fb9f3a\"],[0.8888888888888888,\"#fdca26\"],[1.0,\"#f0f921\"]],\"sequentialminus\":[[0.0,\"#0d0887\"],[0.1111111111111111,\"#46039f\"],[0.2222222222222222,\"#7201a8\"],[0.3333333333333333,\"#9c179e\"],[0.4444444444444444,\"#bd3786\"],[0.5555555555555556,\"#d8576b\"],[0.6666666666666666,\"#ed7953\"],[0.7777777777777778,\"#fb9f3a\"],[0.8888888888888888,\"#fdca26\"],[1.0,\"#f0f921\"]]},\"colorway\":[\"#636efa\",\"#EF553B\",\"#00cc96\",\"#ab63fa\",\"#FFA15A\",\"#19d3f3\",\"#FF6692\",\"#B6E880\",\"#FF97FF\",\"#FECB52\"],\"font\":{\"color\":\"#2a3f5f\"},\"geo\":{\"bgcolor\":\"white\",\"lakecolor\":\"white\",\"landcolor\":\"#E5ECF6\",\"showlakes\":true,\"showland\":true,\"subunitcolor\":\"white\"},\"hoverlabel\":{\"align\":\"left\"},\"hovermode\":\"closest\",\"mapbox\":{\"style\":\"light\"},\"paper_bgcolor\":\"white\",\"plot_bgcolor\":\"#E5ECF6\",\"polar\":{\"angularaxis\":{\"gridcolor\":\"white\",\"linecolor\":\"white\",\"ticks\":\"\"},\"bgcolor\":\"#E5ECF6\",\"radialaxis\":{\"gridcolor\":\"white\",\"linecolor\":\"white\",\"ticks\":\"\"}},\"scene\":{\"xaxis\":{\"backgroundcolor\":\"#E5ECF6\",\"gridcolor\":\"white\",\"gridwidth\":2,\"linecolor\":\"white\",\"showbackground\":true,\"ticks\":\"\",\"zerolinecolor\":\"white\"},\"yaxis\":{\"backgroundcolor\":\"#E5ECF6\",\"gridcolor\":\"white\",\"gridwidth\":2,\"linecolor\":\"white\",\"showbackground\":true,\"ticks\":\"\",\"zerolinecolor\":\"white\"},\"zaxis\":{\"backgroundcolor\":\"#E5ECF6\",\"gridcolor\":\"white\",\"gridwidth\":2,\"linecolor\":\"white\",\"showbackground\":true,\"ticks\":\"\",\"zerolinecolor\":\"white\"}},\"shapedefaults\":{\"line\":{\"color\":\"#2a3f5f\"}},\"ternary\":{\"aaxis\":{\"gridcolor\":\"white\",\"linecolor\":\"white\",\"ticks\":\"\"},\"baxis\":{\"gridcolor\":\"white\",\"linecolor\":\"white\",\"ticks\":\"\"},\"bgcolor\":\"#E5ECF6\",\"caxis\":{\"gridcolor\":\"white\",\"linecolor\":\"white\",\"ticks\":\"\"}},\"title\":{\"x\":0.05},\"xaxis\":{\"automargin\":true,\"gridcolor\":\"white\",\"linecolor\":\"white\",\"ticks\":\"\",\"title\":{\"standoff\":15},\"zerolinecolor\":\"white\",\"zerolinewidth\":2},\"yaxis\":{\"automargin\":true,\"gridcolor\":\"white\",\"linecolor\":\"white\",\"ticks\":\"\",\"title\":{\"standoff\":15},\"zerolinecolor\":\"white\",\"zerolinewidth\":2}}},\"geo\":{\"domain\":{\"x\":[0.0,1.0],\"y\":[0.0,1.0]},\"center\":{}},\"coloraxis\":{\"colorbar\":{\"title\":{\"text\":\"Numero de jugadores\"}},\"colorscale\":[[0.0,\"#0d0887\"],[0.1111111111111111,\"#46039f\"],[0.2222222222222222,\"#7201a8\"],[0.3333333333333333,\"#9c179e\"],[0.4444444444444444,\"#bd3786\"],[0.5555555555555556,\"#d8576b\"],[0.6666666666666666,\"#ed7953\"],[0.7777777777777778,\"#fb9f3a\"],[0.8888888888888888,\"#fdca26\"],[1.0,\"#f0f921\"]]},\"legend\":{\"tracegroupgap\":0},\"margin\":{\"t\":60}},                        {\"responsive\": true}                    ).then(function(){\n",
              "                            \n",
              "var gd = document.getElementById('5412f6bc-24a5-4d29-8483-2dc376939a46');\n",
              "var x = new MutationObserver(function (mutations, observer) {{\n",
              "        var display = window.getComputedStyle(gd).display;\n",
              "        if (!display || display === 'none') {{\n",
              "            console.log([gd, 'removed!']);\n",
              "            Plotly.purge(gd);\n",
              "            observer.disconnect();\n",
              "        }}\n",
              "}});\n",
              "\n",
              "// Listen for the removal of the full notebook cells\n",
              "var notebookContainer = gd.closest('#notebook-container');\n",
              "if (notebookContainer) {{\n",
              "    x.observe(notebookContainer, {childList: true});\n",
              "}}\n",
              "\n",
              "// Listen for the clearing of the current output cell\n",
              "var outputEl = gd.closest('.output');\n",
              "if (outputEl) {{\n",
              "    x.observe(outputEl, {childList: true});\n",
              "}}\n",
              "\n",
              "                        })                };                            </script>        </div>\n",
              "</body>\n",
              "</html>"
            ]
          },
          "metadata": {}
        }
      ]
    },
    {
      "cell_type": "markdown",
      "metadata": {
        "id": "_ARyDqkAhDnZ"
      },
      "source": [
        "##Paises con mayor numero de jugadores de alto valor (mas de 10 millones de euros)"
      ]
    },
    {
      "cell_type": "code",
      "execution_count": null,
      "metadata": {
        "colab": {
          "base_uri": "https://localhost:8080/",
          "height": 206
        },
        "id": "cmCo1WKW25uU",
        "outputId": "66c4bac5-5b36-49ce-e1c3-c8521bd5fbe5"
      },
      "outputs": [
        {
          "output_type": "execute_result",
          "data": {
            "text/plain": [
              "   nationality  counts\n",
              "62       Spain     118\n",
              "27      France      89\n",
              "8       Brazil      89\n",
              "29     Germany      53\n",
              "25     England      52"
            ],
            "text/html": [
              "\n",
              "  <div id=\"df-07806669-998b-45ec-8bca-d9f31e686545\">\n",
              "    <div class=\"colab-df-container\">\n",
              "      <div>\n",
              "<style scoped>\n",
              "    .dataframe tbody tr th:only-of-type {\n",
              "        vertical-align: middle;\n",
              "    }\n",
              "\n",
              "    .dataframe tbody tr th {\n",
              "        vertical-align: top;\n",
              "    }\n",
              "\n",
              "    .dataframe thead th {\n",
              "        text-align: right;\n",
              "    }\n",
              "</style>\n",
              "<table border=\"1\" class=\"dataframe\">\n",
              "  <thead>\n",
              "    <tr style=\"text-align: right;\">\n",
              "      <th></th>\n",
              "      <th>nationality</th>\n",
              "      <th>counts</th>\n",
              "    </tr>\n",
              "  </thead>\n",
              "  <tbody>\n",
              "    <tr>\n",
              "      <th>62</th>\n",
              "      <td>Spain</td>\n",
              "      <td>118</td>\n",
              "    </tr>\n",
              "    <tr>\n",
              "      <th>27</th>\n",
              "      <td>France</td>\n",
              "      <td>89</td>\n",
              "    </tr>\n",
              "    <tr>\n",
              "      <th>8</th>\n",
              "      <td>Brazil</td>\n",
              "      <td>89</td>\n",
              "    </tr>\n",
              "    <tr>\n",
              "      <th>29</th>\n",
              "      <td>Germany</td>\n",
              "      <td>53</td>\n",
              "    </tr>\n",
              "    <tr>\n",
              "      <th>25</th>\n",
              "      <td>England</td>\n",
              "      <td>52</td>\n",
              "    </tr>\n",
              "  </tbody>\n",
              "</table>\n",
              "</div>\n",
              "      <button class=\"colab-df-convert\" onclick=\"convertToInteractive('df-07806669-998b-45ec-8bca-d9f31e686545')\"\n",
              "              title=\"Convert this dataframe to an interactive table.\"\n",
              "              style=\"display:none;\">\n",
              "        \n",
              "  <svg xmlns=\"http://www.w3.org/2000/svg\" height=\"24px\"viewBox=\"0 0 24 24\"\n",
              "       width=\"24px\">\n",
              "    <path d=\"M0 0h24v24H0V0z\" fill=\"none\"/>\n",
              "    <path d=\"M18.56 5.44l.94 2.06.94-2.06 2.06-.94-2.06-.94-.94-2.06-.94 2.06-2.06.94zm-11 1L8.5 8.5l.94-2.06 2.06-.94-2.06-.94L8.5 2.5l-.94 2.06-2.06.94zm10 10l.94 2.06.94-2.06 2.06-.94-2.06-.94-.94-2.06-.94 2.06-2.06.94z\"/><path d=\"M17.41 7.96l-1.37-1.37c-.4-.4-.92-.59-1.43-.59-.52 0-1.04.2-1.43.59L10.3 9.45l-7.72 7.72c-.78.78-.78 2.05 0 2.83L4 21.41c.39.39.9.59 1.41.59.51 0 1.02-.2 1.41-.59l7.78-7.78 2.81-2.81c.8-.78.8-2.07 0-2.86zM5.41 20L4 18.59l7.72-7.72 1.47 1.35L5.41 20z\"/>\n",
              "  </svg>\n",
              "      </button>\n",
              "      \n",
              "  <style>\n",
              "    .colab-df-container {\n",
              "      display:flex;\n",
              "      flex-wrap:wrap;\n",
              "      gap: 12px;\n",
              "    }\n",
              "\n",
              "    .colab-df-convert {\n",
              "      background-color: #E8F0FE;\n",
              "      border: none;\n",
              "      border-radius: 50%;\n",
              "      cursor: pointer;\n",
              "      display: none;\n",
              "      fill: #1967D2;\n",
              "      height: 32px;\n",
              "      padding: 0 0 0 0;\n",
              "      width: 32px;\n",
              "    }\n",
              "\n",
              "    .colab-df-convert:hover {\n",
              "      background-color: #E2EBFA;\n",
              "      box-shadow: 0px 1px 2px rgba(60, 64, 67, 0.3), 0px 1px 3px 1px rgba(60, 64, 67, 0.15);\n",
              "      fill: #174EA6;\n",
              "    }\n",
              "\n",
              "    [theme=dark] .colab-df-convert {\n",
              "      background-color: #3B4455;\n",
              "      fill: #D2E3FC;\n",
              "    }\n",
              "\n",
              "    [theme=dark] .colab-df-convert:hover {\n",
              "      background-color: #434B5C;\n",
              "      box-shadow: 0px 1px 3px 1px rgba(0, 0, 0, 0.15);\n",
              "      filter: drop-shadow(0px 1px 2px rgba(0, 0, 0, 0.3));\n",
              "      fill: #FFFFFF;\n",
              "    }\n",
              "  </style>\n",
              "\n",
              "      <script>\n",
              "        const buttonEl =\n",
              "          document.querySelector('#df-07806669-998b-45ec-8bca-d9f31e686545 button.colab-df-convert');\n",
              "        buttonEl.style.display =\n",
              "          google.colab.kernel.accessAllowed ? 'block' : 'none';\n",
              "\n",
              "        async function convertToInteractive(key) {\n",
              "          const element = document.querySelector('#df-07806669-998b-45ec-8bca-d9f31e686545');\n",
              "          const dataTable =\n",
              "            await google.colab.kernel.invokeFunction('convertToInteractive',\n",
              "                                                     [key], {});\n",
              "          if (!dataTable) return;\n",
              "\n",
              "          const docLinkHtml = 'Like what you see? Visit the ' +\n",
              "            '<a target=\"_blank\" href=https://colab.research.google.com/notebooks/data_table.ipynb>data table notebook</a>'\n",
              "            + ' to learn more about interactive tables.';\n",
              "          element.innerHTML = '';\n",
              "          dataTable['output_type'] = 'display_data';\n",
              "          await google.colab.output.renderOutput(dataTable, element);\n",
              "          const docLink = document.createElement('div');\n",
              "          docLink.innerHTML = docLinkHtml;\n",
              "          element.appendChild(docLink);\n",
              "        }\n",
              "      </script>\n",
              "    </div>\n",
              "  </div>\n",
              "  "
            ]
          },
          "metadata": {},
          "execution_count": 28
        }
      ],
      "source": [
        "#Obtenemos el conteo de jugadores que valen mas de 10 millones de euros por pais y luego ordenamos descendientemente\n",
        "df_ft_paises = df_ft[df_ft['value_eur']>10000000].groupby('nationality').size().reset_index(name='counts')\n",
        "df_ft_paises.sort_values(ascending=False, inplace=True, by='counts')\n",
        "df_ft_paises.head()"
      ]
    },
    {
      "cell_type": "code",
      "source": [
        "fig = px.choropleth(df_ft_paises,locationmode='country names', locations='nationality', color='counts',\n",
        "                           color_continuous_scale=\"Viridis\",\n",
        "                           labels={'counts':'Numero de jugadores'}\n",
        "                          )\n",
        "fig.show()"
      ],
      "metadata": {
        "colab": {
          "base_uri": "https://localhost:8080/",
          "height": 542
        },
        "id": "PjQwaRHJsoq9",
        "outputId": "accd70d4-f26c-4e3b-9e15-589c34a0377c"
      },
      "execution_count": null,
      "outputs": [
        {
          "output_type": "display_data",
          "data": {
            "text/html": [
              "<html>\n",
              "<head><meta charset=\"utf-8\" /></head>\n",
              "<body>\n",
              "    <div>            <script src=\"https://cdnjs.cloudflare.com/ajax/libs/mathjax/2.7.5/MathJax.js?config=TeX-AMS-MML_SVG\"></script><script type=\"text/javascript\">if (window.MathJax) {MathJax.Hub.Config({SVG: {font: \"STIX-Web\"}});}</script>                <script type=\"text/javascript\">window.PlotlyConfig = {MathJaxConfig: 'local'};</script>\n",
              "        <script src=\"https://cdn.plot.ly/plotly-2.8.3.min.js\"></script>                <div id=\"862a3c9d-bdee-45f3-8c8f-be4cb7a0202d\" class=\"plotly-graph-div\" style=\"height:525px; width:100%;\"></div>            <script type=\"text/javascript\">                                    window.PLOTLYENV=window.PLOTLYENV || {};                                    if (document.getElementById(\"862a3c9d-bdee-45f3-8c8f-be4cb7a0202d\")) {                    Plotly.newPlot(                        \"862a3c9d-bdee-45f3-8c8f-be4cb7a0202d\",                        [{\"coloraxis\":\"coloraxis\",\"geo\":\"geo\",\"hovertemplate\":\"nationality=%{location}<br>Numero de jugadores=%{z}<extra></extra>\",\"locationmode\":\"country names\",\"locations\":[\"Spain\",\"France\",\"Brazil\",\"Germany\",\"England\",\"Argentina\",\"Portugal\",\"Italy\",\"Belgium\",\"Netherlands\",\"Croatia\",\"Uruguay\",\"Colombia\",\"Serbia\",\"Switzerland\",\"Austria\",\"Turkey\",\"Senegal\",\"Denmark\",\"Algeria\",\"Morocco\",\"Nigeria\",\"Poland\",\"Mexico\",\"Ivory Coast\",\"Cameroon\",\"Wales\",\"Norway\",\"Russia\",\"Slovenia\",\"Ukraine\",\"Czech Republic\",\"Ghana\",\"Bosnia Herzegovina\",\"Slovakia\",\"Sweden\",\"Scotland\",\"Japan\",\"Hungary\",\"Mali\",\"China PR\",\"Chile\",\"Gabon\",\"Republic of Ireland\",\"United States\",\"Venezuela\",\"Paraguay\",\"Albania\",\"Korea Republic\",\"Canada\",\"Israel\",\"Greece\",\"New Zealand\",\"Dominican Republic\",\"Armenia\",\"Australia\",\"Burkina Faso\",\"Cape Verde\",\"Central African Republic\",\"Togo\",\"Costa Rica\",\"DR Congo\",\"Egypt\",\"Ecuador\",\"North Macedonia\",\"Finland\",\"Guinea\",\"Iceland\",\"Jamaica\",\"Peru\",\"Kosovo\",\"Montenegro\",\"Zambia\"],\"name\":\"\",\"z\":[118,89,89,53,52,45,44,40,26,25,15,15,13,13,12,10,9,9,9,8,8,8,7,7,7,6,6,6,6,5,5,5,4,4,4,4,4,3,3,3,3,3,3,2,2,2,2,2,2,2,2,2,1,1,1,1,1,1,1,1,1,1,1,1,1,1,1,1,1,1,1,1,1],\"type\":\"choropleth\"}],                        {\"template\":{\"data\":{\"bar\":[{\"error_x\":{\"color\":\"#2a3f5f\"},\"error_y\":{\"color\":\"#2a3f5f\"},\"marker\":{\"line\":{\"color\":\"#E5ECF6\",\"width\":0.5},\"pattern\":{\"fillmode\":\"overlay\",\"size\":10,\"solidity\":0.2}},\"type\":\"bar\"}],\"barpolar\":[{\"marker\":{\"line\":{\"color\":\"#E5ECF6\",\"width\":0.5},\"pattern\":{\"fillmode\":\"overlay\",\"size\":10,\"solidity\":0.2}},\"type\":\"barpolar\"}],\"carpet\":[{\"aaxis\":{\"endlinecolor\":\"#2a3f5f\",\"gridcolor\":\"white\",\"linecolor\":\"white\",\"minorgridcolor\":\"white\",\"startlinecolor\":\"#2a3f5f\"},\"baxis\":{\"endlinecolor\":\"#2a3f5f\",\"gridcolor\":\"white\",\"linecolor\":\"white\",\"minorgridcolor\":\"white\",\"startlinecolor\":\"#2a3f5f\"},\"type\":\"carpet\"}],\"choropleth\":[{\"colorbar\":{\"outlinewidth\":0,\"ticks\":\"\"},\"type\":\"choropleth\"}],\"contour\":[{\"colorbar\":{\"outlinewidth\":0,\"ticks\":\"\"},\"colorscale\":[[0.0,\"#0d0887\"],[0.1111111111111111,\"#46039f\"],[0.2222222222222222,\"#7201a8\"],[0.3333333333333333,\"#9c179e\"],[0.4444444444444444,\"#bd3786\"],[0.5555555555555556,\"#d8576b\"],[0.6666666666666666,\"#ed7953\"],[0.7777777777777778,\"#fb9f3a\"],[0.8888888888888888,\"#fdca26\"],[1.0,\"#f0f921\"]],\"type\":\"contour\"}],\"contourcarpet\":[{\"colorbar\":{\"outlinewidth\":0,\"ticks\":\"\"},\"type\":\"contourcarpet\"}],\"heatmap\":[{\"colorbar\":{\"outlinewidth\":0,\"ticks\":\"\"},\"colorscale\":[[0.0,\"#0d0887\"],[0.1111111111111111,\"#46039f\"],[0.2222222222222222,\"#7201a8\"],[0.3333333333333333,\"#9c179e\"],[0.4444444444444444,\"#bd3786\"],[0.5555555555555556,\"#d8576b\"],[0.6666666666666666,\"#ed7953\"],[0.7777777777777778,\"#fb9f3a\"],[0.8888888888888888,\"#fdca26\"],[1.0,\"#f0f921\"]],\"type\":\"heatmap\"}],\"heatmapgl\":[{\"colorbar\":{\"outlinewidth\":0,\"ticks\":\"\"},\"colorscale\":[[0.0,\"#0d0887\"],[0.1111111111111111,\"#46039f\"],[0.2222222222222222,\"#7201a8\"],[0.3333333333333333,\"#9c179e\"],[0.4444444444444444,\"#bd3786\"],[0.5555555555555556,\"#d8576b\"],[0.6666666666666666,\"#ed7953\"],[0.7777777777777778,\"#fb9f3a\"],[0.8888888888888888,\"#fdca26\"],[1.0,\"#f0f921\"]],\"type\":\"heatmapgl\"}],\"histogram\":[{\"marker\":{\"pattern\":{\"fillmode\":\"overlay\",\"size\":10,\"solidity\":0.2}},\"type\":\"histogram\"}],\"histogram2d\":[{\"colorbar\":{\"outlinewidth\":0,\"ticks\":\"\"},\"colorscale\":[[0.0,\"#0d0887\"],[0.1111111111111111,\"#46039f\"],[0.2222222222222222,\"#7201a8\"],[0.3333333333333333,\"#9c179e\"],[0.4444444444444444,\"#bd3786\"],[0.5555555555555556,\"#d8576b\"],[0.6666666666666666,\"#ed7953\"],[0.7777777777777778,\"#fb9f3a\"],[0.8888888888888888,\"#fdca26\"],[1.0,\"#f0f921\"]],\"type\":\"histogram2d\"}],\"histogram2dcontour\":[{\"colorbar\":{\"outlinewidth\":0,\"ticks\":\"\"},\"colorscale\":[[0.0,\"#0d0887\"],[0.1111111111111111,\"#46039f\"],[0.2222222222222222,\"#7201a8\"],[0.3333333333333333,\"#9c179e\"],[0.4444444444444444,\"#bd3786\"],[0.5555555555555556,\"#d8576b\"],[0.6666666666666666,\"#ed7953\"],[0.7777777777777778,\"#fb9f3a\"],[0.8888888888888888,\"#fdca26\"],[1.0,\"#f0f921\"]],\"type\":\"histogram2dcontour\"}],\"mesh3d\":[{\"colorbar\":{\"outlinewidth\":0,\"ticks\":\"\"},\"type\":\"mesh3d\"}],\"parcoords\":[{\"line\":{\"colorbar\":{\"outlinewidth\":0,\"ticks\":\"\"}},\"type\":\"parcoords\"}],\"pie\":[{\"automargin\":true,\"type\":\"pie\"}],\"scatter\":[{\"marker\":{\"colorbar\":{\"outlinewidth\":0,\"ticks\":\"\"}},\"type\":\"scatter\"}],\"scatter3d\":[{\"line\":{\"colorbar\":{\"outlinewidth\":0,\"ticks\":\"\"}},\"marker\":{\"colorbar\":{\"outlinewidth\":0,\"ticks\":\"\"}},\"type\":\"scatter3d\"}],\"scattercarpet\":[{\"marker\":{\"colorbar\":{\"outlinewidth\":0,\"ticks\":\"\"}},\"type\":\"scattercarpet\"}],\"scattergeo\":[{\"marker\":{\"colorbar\":{\"outlinewidth\":0,\"ticks\":\"\"}},\"type\":\"scattergeo\"}],\"scattergl\":[{\"marker\":{\"colorbar\":{\"outlinewidth\":0,\"ticks\":\"\"}},\"type\":\"scattergl\"}],\"scattermapbox\":[{\"marker\":{\"colorbar\":{\"outlinewidth\":0,\"ticks\":\"\"}},\"type\":\"scattermapbox\"}],\"scatterpolar\":[{\"marker\":{\"colorbar\":{\"outlinewidth\":0,\"ticks\":\"\"}},\"type\":\"scatterpolar\"}],\"scatterpolargl\":[{\"marker\":{\"colorbar\":{\"outlinewidth\":0,\"ticks\":\"\"}},\"type\":\"scatterpolargl\"}],\"scatterternary\":[{\"marker\":{\"colorbar\":{\"outlinewidth\":0,\"ticks\":\"\"}},\"type\":\"scatterternary\"}],\"surface\":[{\"colorbar\":{\"outlinewidth\":0,\"ticks\":\"\"},\"colorscale\":[[0.0,\"#0d0887\"],[0.1111111111111111,\"#46039f\"],[0.2222222222222222,\"#7201a8\"],[0.3333333333333333,\"#9c179e\"],[0.4444444444444444,\"#bd3786\"],[0.5555555555555556,\"#d8576b\"],[0.6666666666666666,\"#ed7953\"],[0.7777777777777778,\"#fb9f3a\"],[0.8888888888888888,\"#fdca26\"],[1.0,\"#f0f921\"]],\"type\":\"surface\"}],\"table\":[{\"cells\":{\"fill\":{\"color\":\"#EBF0F8\"},\"line\":{\"color\":\"white\"}},\"header\":{\"fill\":{\"color\":\"#C8D4E3\"},\"line\":{\"color\":\"white\"}},\"type\":\"table\"}]},\"layout\":{\"annotationdefaults\":{\"arrowcolor\":\"#2a3f5f\",\"arrowhead\":0,\"arrowwidth\":1},\"autotypenumbers\":\"strict\",\"coloraxis\":{\"colorbar\":{\"outlinewidth\":0,\"ticks\":\"\"}},\"colorscale\":{\"diverging\":[[0,\"#8e0152\"],[0.1,\"#c51b7d\"],[0.2,\"#de77ae\"],[0.3,\"#f1b6da\"],[0.4,\"#fde0ef\"],[0.5,\"#f7f7f7\"],[0.6,\"#e6f5d0\"],[0.7,\"#b8e186\"],[0.8,\"#7fbc41\"],[0.9,\"#4d9221\"],[1,\"#276419\"]],\"sequential\":[[0.0,\"#0d0887\"],[0.1111111111111111,\"#46039f\"],[0.2222222222222222,\"#7201a8\"],[0.3333333333333333,\"#9c179e\"],[0.4444444444444444,\"#bd3786\"],[0.5555555555555556,\"#d8576b\"],[0.6666666666666666,\"#ed7953\"],[0.7777777777777778,\"#fb9f3a\"],[0.8888888888888888,\"#fdca26\"],[1.0,\"#f0f921\"]],\"sequentialminus\":[[0.0,\"#0d0887\"],[0.1111111111111111,\"#46039f\"],[0.2222222222222222,\"#7201a8\"],[0.3333333333333333,\"#9c179e\"],[0.4444444444444444,\"#bd3786\"],[0.5555555555555556,\"#d8576b\"],[0.6666666666666666,\"#ed7953\"],[0.7777777777777778,\"#fb9f3a\"],[0.8888888888888888,\"#fdca26\"],[1.0,\"#f0f921\"]]},\"colorway\":[\"#636efa\",\"#EF553B\",\"#00cc96\",\"#ab63fa\",\"#FFA15A\",\"#19d3f3\",\"#FF6692\",\"#B6E880\",\"#FF97FF\",\"#FECB52\"],\"font\":{\"color\":\"#2a3f5f\"},\"geo\":{\"bgcolor\":\"white\",\"lakecolor\":\"white\",\"landcolor\":\"#E5ECF6\",\"showlakes\":true,\"showland\":true,\"subunitcolor\":\"white\"},\"hoverlabel\":{\"align\":\"left\"},\"hovermode\":\"closest\",\"mapbox\":{\"style\":\"light\"},\"paper_bgcolor\":\"white\",\"plot_bgcolor\":\"#E5ECF6\",\"polar\":{\"angularaxis\":{\"gridcolor\":\"white\",\"linecolor\":\"white\",\"ticks\":\"\"},\"bgcolor\":\"#E5ECF6\",\"radialaxis\":{\"gridcolor\":\"white\",\"linecolor\":\"white\",\"ticks\":\"\"}},\"scene\":{\"xaxis\":{\"backgroundcolor\":\"#E5ECF6\",\"gridcolor\":\"white\",\"gridwidth\":2,\"linecolor\":\"white\",\"showbackground\":true,\"ticks\":\"\",\"zerolinecolor\":\"white\"},\"yaxis\":{\"backgroundcolor\":\"#E5ECF6\",\"gridcolor\":\"white\",\"gridwidth\":2,\"linecolor\":\"white\",\"showbackground\":true,\"ticks\":\"\",\"zerolinecolor\":\"white\"},\"zaxis\":{\"backgroundcolor\":\"#E5ECF6\",\"gridcolor\":\"white\",\"gridwidth\":2,\"linecolor\":\"white\",\"showbackground\":true,\"ticks\":\"\",\"zerolinecolor\":\"white\"}},\"shapedefaults\":{\"line\":{\"color\":\"#2a3f5f\"}},\"ternary\":{\"aaxis\":{\"gridcolor\":\"white\",\"linecolor\":\"white\",\"ticks\":\"\"},\"baxis\":{\"gridcolor\":\"white\",\"linecolor\":\"white\",\"ticks\":\"\"},\"bgcolor\":\"#E5ECF6\",\"caxis\":{\"gridcolor\":\"white\",\"linecolor\":\"white\",\"ticks\":\"\"}},\"title\":{\"x\":0.05},\"xaxis\":{\"automargin\":true,\"gridcolor\":\"white\",\"linecolor\":\"white\",\"ticks\":\"\",\"title\":{\"standoff\":15},\"zerolinecolor\":\"white\",\"zerolinewidth\":2},\"yaxis\":{\"automargin\":true,\"gridcolor\":\"white\",\"linecolor\":\"white\",\"ticks\":\"\",\"title\":{\"standoff\":15},\"zerolinecolor\":\"white\",\"zerolinewidth\":2}}},\"geo\":{\"domain\":{\"x\":[0.0,1.0],\"y\":[0.0,1.0]},\"center\":{}},\"coloraxis\":{\"colorbar\":{\"title\":{\"text\":\"Numero de jugadores\"}},\"colorscale\":[[0.0,\"#440154\"],[0.1111111111111111,\"#482878\"],[0.2222222222222222,\"#3e4989\"],[0.3333333333333333,\"#31688e\"],[0.4444444444444444,\"#26828e\"],[0.5555555555555556,\"#1f9e89\"],[0.6666666666666666,\"#35b779\"],[0.7777777777777778,\"#6ece58\"],[0.8888888888888888,\"#b5de2b\"],[1.0,\"#fde725\"]]},\"legend\":{\"tracegroupgap\":0},\"margin\":{\"t\":60}},                        {\"responsive\": true}                    ).then(function(){\n",
              "                            \n",
              "var gd = document.getElementById('862a3c9d-bdee-45f3-8c8f-be4cb7a0202d');\n",
              "var x = new MutationObserver(function (mutations, observer) {{\n",
              "        var display = window.getComputedStyle(gd).display;\n",
              "        if (!display || display === 'none') {{\n",
              "            console.log([gd, 'removed!']);\n",
              "            Plotly.purge(gd);\n",
              "            observer.disconnect();\n",
              "        }}\n",
              "}});\n",
              "\n",
              "// Listen for the removal of the full notebook cells\n",
              "var notebookContainer = gd.closest('#notebook-container');\n",
              "if (notebookContainer) {{\n",
              "    x.observe(notebookContainer, {childList: true});\n",
              "}}\n",
              "\n",
              "// Listen for the clearing of the current output cell\n",
              "var outputEl = gd.closest('.output');\n",
              "if (outputEl) {{\n",
              "    x.observe(outputEl, {childList: true});\n",
              "}}\n",
              "\n",
              "                        })                };                            </script>        </div>\n",
              "</body>\n",
              "</html>"
            ]
          },
          "metadata": {}
        }
      ]
    },
    {
      "cell_type": "code",
      "execution_count": null,
      "metadata": {
        "colab": {
          "base_uri": "https://localhost:8080/",
          "height": 367
        },
        "id": "799Q3PSoiWb9",
        "outputId": "c5e46865-ecc5-404d-96db-839213c7d8a2"
      },
      "outputs": [
        {
          "output_type": "execute_result",
          "data": {
            "text/plain": [
              "Text(0.5, 0, 'Numero de jugadores')"
            ]
          },
          "metadata": {},
          "execution_count": 30
        },
        {
          "output_type": "display_data",
          "data": {
            "text/plain": [
              "<Figure size 720x360 with 1 Axes>"
            ],
            "image/png": "[encoded data removed]"
          },
          "metadata": {
            "needs_background": "light"
          }
        }
      ],
      "source": [
        "fig, ax = plt.subplots(figsize=(10,5))\n",
        "ax.set_title('Top 10 Paises con los jugadores mas caros')\n",
        "sns.barplot(data=df_ft_paises.head(10), y='nationality', x='counts',orient='h')\n",
        "ax.set_ylabel('Nacionalidad')\n",
        "ax.set_xlabel('Numero de jugadores')\n"
      ]
    },
    {
      "cell_type": "markdown",
      "metadata": {
        "id": "HjrVmHBVpznD"
      },
      "source": [
        "Podemos observar que los paises europeos dominan el mercado con los jugadores mas valiosos, solo Brasil y Argentina entran en el ranking representando a Suramerica"
      ]
    },
    {
      "cell_type": "markdown",
      "metadata": {
        "id": "jdBlUOC8st-P"
      },
      "source": [
        "##Posiciones de juego con mayor numero de jugadores valiosos"
      ]
    },
    {
      "cell_type": "code",
      "execution_count": null,
      "metadata": {
        "colab": {
          "base_uri": "https://localhost:8080/",
          "height": 206
        },
        "id": "2FkYfQ4wstf9",
        "outputId": "30ed58fe-4685-47b1-bfb6-fac593f8423c"
      },
      "outputs": [
        {
          "output_type": "execute_result",
          "data": {
            "text/plain": [
              "   team_position  counts\n",
              "28           SUB     215\n",
              "5             GK      65\n",
              "27            ST      46\n",
              "19           RCM      41\n",
              "9            LCM      41"
            ],
            "text/html": [
              "\n",
              "  <div id=\"df-8552b5dd-2a67-4a82-8de6-c7e4f755f4a2\">\n",
              "    <div class=\"colab-df-container\">\n",
              "      <div>\n",
              "<style scoped>\n",
              "    .dataframe tbody tr th:only-of-type {\n",
              "        vertical-align: middle;\n",
              "    }\n",
              "\n",
              "    .dataframe tbody tr th {\n",
              "        vertical-align: top;\n",
              "    }\n",
              "\n",
              "    .dataframe thead th {\n",
              "        text-align: right;\n",
              "    }\n",
              "</style>\n",
              "<table border=\"1\" class=\"dataframe\">\n",
              "  <thead>\n",
              "    <tr style=\"text-align: right;\">\n",
              "      <th></th>\n",
              "      <th>team_position</th>\n",
              "      <th>counts</th>\n",
              "    </tr>\n",
              "  </thead>\n",
              "  <tbody>\n",
              "    <tr>\n",
              "      <th>28</th>\n",
              "      <td>SUB</td>\n",
              "      <td>215</td>\n",
              "    </tr>\n",
              "    <tr>\n",
              "      <th>5</th>\n",
              "      <td>GK</td>\n",
              "      <td>65</td>\n",
              "    </tr>\n",
              "    <tr>\n",
              "      <th>27</th>\n",
              "      <td>ST</td>\n",
              "      <td>46</td>\n",
              "    </tr>\n",
              "    <tr>\n",
              "      <th>19</th>\n",
              "      <td>RCM</td>\n",
              "      <td>41</td>\n",
              "    </tr>\n",
              "    <tr>\n",
              "      <th>9</th>\n",
              "      <td>LCM</td>\n",
              "      <td>41</td>\n",
              "    </tr>\n",
              "  </tbody>\n",
              "</table>\n",
              "</div>\n",
              "      <button class=\"colab-df-convert\" onclick=\"convertToInteractive('df-8552b5dd-2a67-4a82-8de6-c7e4f755f4a2')\"\n",
              "              title=\"Convert this dataframe to an interactive table.\"\n",
              "              style=\"display:none;\">\n",
              "        \n",
              "  <svg xmlns=\"http://www.w3.org/2000/svg\" height=\"24px\"viewBox=\"0 0 24 24\"\n",
              "       width=\"24px\">\n",
              "    <path d=\"M0 0h24v24H0V0z\" fill=\"none\"/>\n",
              "    <path d=\"M18.56 5.44l.94 2.06.94-2.06 2.06-.94-2.06-.94-.94-2.06-.94 2.06-2.06.94zm-11 1L8.5 8.5l.94-2.06 2.06-.94-2.06-.94L8.5 2.5l-.94 2.06-2.06.94zm10 10l.94 2.06.94-2.06 2.06-.94-2.06-.94-.94-2.06-.94 2.06-2.06.94z\"/><path d=\"M17.41 7.96l-1.37-1.37c-.4-.4-.92-.59-1.43-.59-.52 0-1.04.2-1.43.59L10.3 9.45l-7.72 7.72c-.78.78-.78 2.05 0 2.83L4 21.41c.39.39.9.59 1.41.59.51 0 1.02-.2 1.41-.59l7.78-7.78 2.81-2.81c.8-.78.8-2.07 0-2.86zM5.41 20L4 18.59l7.72-7.72 1.47 1.35L5.41 20z\"/>\n",
              "  </svg>\n",
              "      </button>\n",
              "      \n",
              "  <style>\n",
              "    .colab-df-container {\n",
              "      display:flex;\n",
              "      flex-wrap:wrap;\n",
              "      gap: 12px;\n",
              "    }\n",
              "\n",
              "    .colab-df-convert {\n",
              "      background-color: #E8F0FE;\n",
              "      border: none;\n",
              "      border-radius: 50%;\n",
              "      cursor: pointer;\n",
              "      display: none;\n",
              "      fill: #1967D2;\n",
              "      height: 32px;\n",
              "      padding: 0 0 0 0;\n",
              "      width: 32px;\n",
              "    }\n",
              "\n",
              "    .colab-df-convert:hover {\n",
              "      background-color: #E2EBFA;\n",
              "      box-shadow: 0px 1px 2px rgba(60, 64, 67, 0.3), 0px 1px 3px 1px rgba(60, 64, 67, 0.15);\n",
              "      fill: #174EA6;\n",
              "    }\n",
              "\n",
              "    [theme=dark] .colab-df-convert {\n",
              "      background-color: #3B4455;\n",
              "      fill: #D2E3FC;\n",
              "    }\n",
              "\n",
              "    [theme=dark] .colab-df-convert:hover {\n",
              "      background-color: #434B5C;\n",
              "      box-shadow: 0px 1px 3px 1px rgba(0, 0, 0, 0.15);\n",
              "      filter: drop-shadow(0px 1px 2px rgba(0, 0, 0, 0.3));\n",
              "      fill: #FFFFFF;\n",
              "    }\n",
              "  </style>\n",
              "\n",
              "      <script>\n",
              "        const buttonEl =\n",
              "          document.querySelector('#df-8552b5dd-2a67-4a82-8de6-c7e4f755f4a2 button.colab-df-convert');\n",
              "        buttonEl.style.display =\n",
              "          google.colab.kernel.accessAllowed ? 'block' : 'none';\n",
              "\n",
              "        async function convertToInteractive(key) {\n",
              "          const element = document.querySelector('#df-8552b5dd-2a67-4a82-8de6-c7e4f755f4a2');\n",
              "          const dataTable =\n",
              "            await google.colab.kernel.invokeFunction('convertToInteractive',\n",
              "                                                     [key], {});\n",
              "          if (!dataTable) return;\n",
              "\n",
              "          const docLinkHtml = 'Like what you see? Visit the ' +\n",
              "            '<a target=\"_blank\" href=https://colab.research.google.com/notebooks/data_table.ipynb>data table notebook</a>'\n",
              "            + ' to learn more about interactive tables.';\n",
              "          element.innerHTML = '';\n",
              "          dataTable['output_type'] = 'display_data';\n",
              "          await google.colab.output.renderOutput(dataTable, element);\n",
              "          const docLink = document.createElement('div');\n",
              "          docLink.innerHTML = docLinkHtml;\n",
              "          element.appendChild(docLink);\n",
              "        }\n",
              "      </script>\n",
              "    </div>\n",
              "  </div>\n",
              "  "
            ]
          },
          "metadata": {},
          "execution_count": 31
        }
      ],
      "source": [
        "##Agrupamos por posicion del jugador en su equipo actual y contamos cuantos jugadores (de valor de mas de 10 millones de euros) hay.\n",
        "df_ft_posiciones = df_ft[df_ft['value_eur']>10000000].groupby('team_position').size().reset_index(name='counts')\n",
        "df_ft_posiciones.sort_values(ascending=False, inplace=True, by='counts')\n",
        "df_ft_posiciones.head()"
      ]
    },
    {
      "cell_type": "code",
      "execution_count": null,
      "metadata": {
        "colab": {
          "base_uri": "https://localhost:8080/",
          "height": 367
        },
        "id": "TNLEjSzi0fH2",
        "outputId": "bfe5b774-1208-4056-994f-430fb8386e69"
      },
      "outputs": [
        {
          "output_type": "execute_result",
          "data": {
            "text/plain": [
              "Text(0, 0.5, 'Numero de jugadores')"
            ]
          },
          "metadata": {},
          "execution_count": 32
        },
        {
          "output_type": "display_data",
          "data": {
            "text/plain": [
              "<Figure size 720x360 with 1 Axes>"
            ],
            "image/png": "[encoded data removed]"
          },
          "metadata": {
            "needs_background": "light"
          }
        }
      ],
      "source": [
        "fig, ax = plt.subplots(figsize=(10,5))\n",
        "ax.set_title('Top 10 posiciones mas jugadas por los jugadores mas valiosos')\n",
        "sns.barplot(data=df_ft_posiciones.head(10), x='counts', y='team_position')\n",
        "ax.set_xlabel('Posicion')\n",
        "ax.set_ylabel('Numero de jugadores')"
      ]
    },
    {
      "cell_type": "markdown",
      "metadata": {
        "id": "dA3NMXib0sfe"
      },
      "source": [
        "Aqui nos damos cuenta que sorpresivamente la mayoria de jugadores de mayor valor, no son titulares en sus equipos actuales y que luego le siguen los arqueros como los jugadores mas valiosos."
      ]
    },
    {
      "cell_type": "markdown",
      "metadata": {
        "id": "-b6_0dguGlp9"
      },
      "source": [
        "##Grafico de dispersion del promedio de estadisticas de un jugador con respecto a su valor"
      ]
    },
    {
      "cell_type": "code",
      "execution_count": null,
      "metadata": {
        "colab": {
          "base_uri": "https://localhost:8080/",
          "height": 367
        },
        "id": "inv3ZnF5LQzo",
        "outputId": "c08f67be-4209-4d6d-d93f-e56f84c1b482"
      },
      "outputs": [
        {
          "output_type": "execute_result",
          "data": {
            "text/plain": [
              "Text(0.5, 0, 'Atributos (0-99)')"
            ]
          },
          "metadata": {},
          "execution_count": 33
        },
        {
          "output_type": "display_data",
          "data": {
            "text/plain": [
              "<Figure size 720x360 with 1 Axes>"
            ],
            "image/png": "[encoded data removed]"
          },
          "metadata": {
            "needs_background": "light"
          }
        }
      ],
      "source": [
        "np.random.seed(19680801)\n",
        "fig, ax = plt.subplots(figsize=(10,5))\n",
        "colors = np.random.rand(df_ft['overall'].size)\n",
        "ax.scatter(df_ft['overall'], df_ft['value_eur']/1000000, c=colors)\n",
        "ax.set_title('Atributos vs Valor del mercado')\n",
        "ax.set_ylabel('Valor del Mercado (millones de euros)')\n",
        "ax.set_xlabel('Atributos (0-99)')"
      ]
    },
    {
      "cell_type": "markdown",
      "metadata": {
        "id": "JAofJnu9OKTZ"
      },
      "source": [
        "En el grafico anterior podemos observar que hay una relacion positiva entre el promedio de atributos de un jugador y su valor en el mercado"
      ]
    },
    {
      "cell_type": "markdown",
      "metadata": {
        "id": "ItzvKuomqSkx"
      },
      "source": [
        "##Distribucion de Potencial con respecto a si el jugador es zurdo o diestro"
      ]
    },
    {
      "cell_type": "code",
      "execution_count": null,
      "metadata": {
        "id": "BSYDTtt9qiWN",
        "colab": {
          "base_uri": "https://localhost:8080/",
          "height": 398
        },
        "outputId": "cb219632-5042-437b-e0bd-20817cea6175"
      },
      "outputs": [
        {
          "output_type": "execute_result",
          "data": {
            "text/plain": [
              "<seaborn.axisgrid.FacetGrid at 0x7fefa3589fd0>"
            ]
          },
          "metadata": {},
          "execution_count": 34
        },
        {
          "output_type": "display_data",
          "data": {
            "text/plain": [
              "<Figure size 454.175x360 with 1 Axes>"
            ],
            "image/png": "[encoded data removed]"
          },
          "metadata": {}
        }
      ],
      "source": [
        "sns.set(style=\"darkgrid\")\n",
        "ax = sns.catplot(data=df_ft, kind='boxen', y='preferred_foot', x='potential', hue='preferred_foot')\n",
        "ax.set(xlabel='Potencial del jugador', ylabel='Pie preferido',\n",
        "title='Distribucion de los jugadores zurdos o derechos con respecto a su potencial')\n",
        "ax.legend.remove()\n",
        "ax.despine(bottom = True, left = True)"
      ]
    },
    {
      "cell_type": "markdown",
      "metadata": {
        "id": "jJNlZjsjsiPt"
      },
      "source": [
        "De acuerdo con el grafico anterior, no se observa una diferencia significativa en la distribucion de los jugadores de acuerdo a su pie de preferencia, esto quiere que decir que puede que no haya mucha influencia en el precio final del jugador si es zurdo o derecho."
      ]
    },
    {
      "cell_type": "markdown",
      "metadata": {
        "id": "OQIeBEUiFJWd"
      },
      "source": [
        "##Distribucion de pie preferido del jugador con respecto a la posicion en la que juega"
      ]
    },
    {
      "cell_type": "code",
      "execution_count": null,
      "metadata": {
        "id": "2iJsHRgAIGOt",
        "colab": {
          "base_uri": "https://localhost:8080/",
          "height": 677
        },
        "outputId": "6b9ae4b2-560f-48ce-848a-86bea31e0710"
      },
      "outputs": [
        {
          "output_type": "execute_result",
          "data": {
            "text/plain": [
              "   team_position preferred_foot  counts\n",
              "0            CAM           Left       7\n",
              "1            CAM          Right      21\n",
              "2             CB           Left       1\n",
              "3             CB          Right       8\n",
              "4            CDM           Left       1\n",
              "5            CDM          Right      13\n",
              "6             CF          Right       2\n",
              "7             CM           Left       1\n",
              "8             CM          Right       3\n",
              "9             GK           Left      12\n",
              "10            GK          Right      53\n",
              "11           LAM           Left       1\n",
              "12           LAM          Right       2\n",
              "13            LB           Left      30\n",
              "14           LCB           Left      15\n",
              "15           LCB          Right      19\n",
              "16           LCM           Left       8\n",
              "17           LCM          Right      33\n",
              "18           LDM           Left       5\n",
              "19           LDM          Right       9"
            ],
            "text/html": [
              "\n",
              "  <div id=\"df-4eb49465-c27c-4b63-8cac-d764f8275ad8\">\n",
              "    <div class=\"colab-df-container\">\n",
              "      <div>\n",
              "<style scoped>\n",
              "    .dataframe tbody tr th:only-of-type {\n",
              "        vertical-align: middle;\n",
              "    }\n",
              "\n",
              "    .dataframe tbody tr th {\n",
              "        vertical-align: top;\n",
              "    }\n",
              "\n",
              "    .dataframe thead th {\n",
              "        text-align: right;\n",
              "    }\n",
              "</style>\n",
              "<table border=\"1\" class=\"dataframe\">\n",
              "  <thead>\n",
              "    <tr style=\"text-align: right;\">\n",
              "      <th></th>\n",
              "      <th>team_position</th>\n",
              "      <th>preferred_foot</th>\n",
              "      <th>counts</th>\n",
              "    </tr>\n",
              "  </thead>\n",
              "  <tbody>\n",
              "    <tr>\n",
              "      <th>0</th>\n",
              "      <td>CAM</td>\n",
              "      <td>Left</td>\n",
              "      <td>7</td>\n",
              "    </tr>\n",
              "    <tr>\n",
              "      <th>1</th>\n",
              "      <td>CAM</td>\n",
              "      <td>Right</td>\n",
              "      <td>21</td>\n",
              "    </tr>\n",
              "    <tr>\n",
              "      <th>2</th>\n",
              "      <td>CB</td>\n",
              "      <td>Left</td>\n",
              "      <td>1</td>\n",
              "    </tr>\n",
              "    <tr>\n",
              "      <th>3</th>\n",
              "      <td>CB</td>\n",
              "      <td>Right</td>\n",
              "      <td>8</td>\n",
              "    </tr>\n",
              "    <tr>\n",
              "      <th>4</th>\n",
              "      <td>CDM</td>\n",
              "      <td>Left</td>\n",
              "      <td>1</td>\n",
              "    </tr>\n",
              "    <tr>\n",
              "      <th>5</th>\n",
              "      <td>CDM</td>\n",
              "      <td>Right</td>\n",
              "      <td>13</td>\n",
              "    </tr>\n",
              "    <tr>\n",
              "      <th>6</th>\n",
              "      <td>CF</td>\n",
              "      <td>Right</td>\n",
              "      <td>2</td>\n",
              "    </tr>\n",
              "    <tr>\n",
              "      <th>7</th>\n",
              "      <td>CM</td>\n",
              "      <td>Left</td>\n",
              "      <td>1</td>\n",
              "    </tr>\n",
              "    <tr>\n",
              "      <th>8</th>\n",
              "      <td>CM</td>\n",
              "      <td>Right</td>\n",
              "      <td>3</td>\n",
              "    </tr>\n",
              "    <tr>\n",
              "      <th>9</th>\n",
              "      <td>GK</td>\n",
              "      <td>Left</td>\n",
              "      <td>12</td>\n",
              "    </tr>\n",
              "    <tr>\n",
              "      <th>10</th>\n",
              "      <td>GK</td>\n",
              "      <td>Right</td>\n",
              "      <td>53</td>\n",
              "    </tr>\n",
              "    <tr>\n",
              "      <th>11</th>\n",
              "      <td>LAM</td>\n",
              "      <td>Left</td>\n",
              "      <td>1</td>\n",
              "    </tr>\n",
              "    <tr>\n",
              "      <th>12</th>\n",
              "      <td>LAM</td>\n",
              "      <td>Right</td>\n",
              "      <td>2</td>\n",
              "    </tr>\n",
              "    <tr>\n",
              "      <th>13</th>\n",
              "      <td>LB</td>\n",
              "      <td>Left</td>\n",
              "      <td>30</td>\n",
              "    </tr>\n",
              "    <tr>\n",
              "      <th>14</th>\n",
              "      <td>LCB</td>\n",
              "      <td>Left</td>\n",
              "      <td>15</td>\n",
              "    </tr>\n",
              "    <tr>\n",
              "      <th>15</th>\n",
              "      <td>LCB</td>\n",
              "      <td>Right</td>\n",
              "      <td>19</td>\n",
              "    </tr>\n",
              "    <tr>\n",
              "      <th>16</th>\n",
              "      <td>LCM</td>\n",
              "      <td>Left</td>\n",
              "      <td>8</td>\n",
              "    </tr>\n",
              "    <tr>\n",
              "      <th>17</th>\n",
              "      <td>LCM</td>\n",
              "      <td>Right</td>\n",
              "      <td>33</td>\n",
              "    </tr>\n",
              "    <tr>\n",
              "      <th>18</th>\n",
              "      <td>LDM</td>\n",
              "      <td>Left</td>\n",
              "      <td>5</td>\n",
              "    </tr>\n",
              "    <tr>\n",
              "      <th>19</th>\n",
              "      <td>LDM</td>\n",
              "      <td>Right</td>\n",
              "      <td>9</td>\n",
              "    </tr>\n",
              "  </tbody>\n",
              "</table>\n",
              "</div>\n",
              "      <button class=\"colab-df-convert\" onclick=\"convertToInteractive('df-4eb49465-c27c-4b63-8cac-d764f8275ad8')\"\n",
              "              title=\"Convert this dataframe to an interactive table.\"\n",
              "              style=\"display:none;\">\n",
              "        \n",
              "  <svg xmlns=\"http://www.w3.org/2000/svg\" height=\"24px\"viewBox=\"0 0 24 24\"\n",
              "       width=\"24px\">\n",
              "    <path d=\"M0 0h24v24H0V0z\" fill=\"none\"/>\n",
              "    <path d=\"M18.56 5.44l.94 2.06.94-2.06 2.06-.94-2.06-.94-.94-2.06-.94 2.06-2.06.94zm-11 1L8.5 8.5l.94-2.06 2.06-.94-2.06-.94L8.5 2.5l-.94 2.06-2.06.94zm10 10l.94 2.06.94-2.06 2.06-.94-2.06-.94-.94-2.06-.94 2.06-2.06.94z\"/><path d=\"M17.41 7.96l-1.37-1.37c-.4-.4-.92-.59-1.43-.59-.52 0-1.04.2-1.43.59L10.3 9.45l-7.72 7.72c-.78.78-.78 2.05 0 2.83L4 21.41c.39.39.9.59 1.41.59.51 0 1.02-.2 1.41-.59l7.78-7.78 2.81-2.81c.8-.78.8-2.07 0-2.86zM5.41 20L4 18.59l7.72-7.72 1.47 1.35L5.41 20z\"/>\n",
              "  </svg>\n",
              "      </button>\n",
              "      \n",
              "  <style>\n",
              "    .colab-df-container {\n",
              "      display:flex;\n",
              "      flex-wrap:wrap;\n",
              "      gap: 12px;\n",
              "    }\n",
              "\n",
              "    .colab-df-convert {\n",
              "      background-color: #E8F0FE;\n",
              "      border: none;\n",
              "      border-radius: 50%;\n",
              "      cursor: pointer;\n",
              "      display: none;\n",
              "      fill: #1967D2;\n",
              "      height: 32px;\n",
              "      padding: 0 0 0 0;\n",
              "      width: 32px;\n",
              "    }\n",
              "\n",
              "    .colab-df-convert:hover {\n",
              "      background-color: #E2EBFA;\n",
              "      box-shadow: 0px 1px 2px rgba(60, 64, 67, 0.3), 0px 1px 3px 1px rgba(60, 64, 67, 0.15);\n",
              "      fill: #174EA6;\n",
              "    }\n",
              "\n",
              "    [theme=dark] .colab-df-convert {\n",
              "      background-color: #3B4455;\n",
              "      fill: #D2E3FC;\n",
              "    }\n",
              "\n",
              "    [theme=dark] .colab-df-convert:hover {\n",
              "      background-color: #434B5C;\n",
              "      box-shadow: 0px 1px 3px 1px rgba(0, 0, 0, 0.15);\n",
              "      filter: drop-shadow(0px 1px 2px rgba(0, 0, 0, 0.3));\n",
              "      fill: #FFFFFF;\n",
              "    }\n",
              "  </style>\n",
              "\n",
              "      <script>\n",
              "        const buttonEl =\n",
              "          document.querySelector('#df-4eb49465-c27c-4b63-8cac-d764f8275ad8 button.colab-df-convert');\n",
              "        buttonEl.style.display =\n",
              "          google.colab.kernel.accessAllowed ? 'block' : 'none';\n",
              "\n",
              "        async function convertToInteractive(key) {\n",
              "          const element = document.querySelector('#df-4eb49465-c27c-4b63-8cac-d764f8275ad8');\n",
              "          const dataTable =\n",
              "            await google.colab.kernel.invokeFunction('convertToInteractive',\n",
              "                                                     [key], {});\n",
              "          if (!dataTable) return;\n",
              "\n",
              "          const docLinkHtml = 'Like what you see? Visit the ' +\n",
              "            '<a target=\"_blank\" href=https://colab.research.google.com/notebooks/data_table.ipynb>data table notebook</a>'\n",
              "            + ' to learn more about interactive tables.';\n",
              "          element.innerHTML = '';\n",
              "          dataTable['output_type'] = 'display_data';\n",
              "          await google.colab.output.renderOutput(dataTable, element);\n",
              "          const docLink = document.createElement('div');\n",
              "          docLink.innerHTML = docLinkHtml;\n",
              "          element.appendChild(docLink);\n",
              "        }\n",
              "      </script>\n",
              "    </div>\n",
              "  </div>\n",
              "  "
            ]
          },
          "metadata": {},
          "execution_count": 35
        }
      ],
      "source": [
        "#Agrupamos por posicion del jugador en su equipo actual y contamos cuantos jugadores (de valor de mas de 10 millones de euros) hay.\n",
        "df_ft_posiciones = df_ft[df_ft['value_eur']>10000000].groupby(['team_position','preferred_foot']).size().reset_index(name='counts')\n",
        "#df_ft_posiciones.sort_values(ascending=False, inplace=True, by='counts')\n",
        "df_ft_posiciones.head(20)"
      ]
    },
    {
      "cell_type": "code",
      "execution_count": null,
      "metadata": {
        "id": "MLPgxvUsFJWp",
        "colab": {
          "base_uri": "https://localhost:8080/",
          "height": 407
        },
        "outputId": "29a11942-fc25-444e-cf19-3a354bae0415"
      },
      "outputs": [
        {
          "output_type": "execute_result",
          "data": {
            "text/plain": [
              "[Text(0, 0.5, ''),\n",
              " Text(0.5, 0, 'Posicion'),\n",
              " Text(0.5, 1.0, 'Distribucion de los jugadores zurdos o derechos con respecto a su posicion de juego')]"
            ]
          },
          "metadata": {},
          "execution_count": 36
        },
        {
          "output_type": "display_data",
          "data": {
            "text/plain": [
              "<Figure size 720x360 with 1 Axes>"
            ],
            "image/png": "[encoded data removed]"
          },
          "metadata": {}
        }
      ],
      "source": [
        "fig, ax = plt.subplots(figsize=(10,5))\n",
        "ax = sns.barplot(ax=ax, data=df_ft_posiciones.head(20), y='counts', x='team_position', hue='preferred_foot')\n",
        "ax.set(xlabel='Posicion', ylabel='',\n",
        "title='Distribucion de los jugadores zurdos o derechos con respecto a su posicion de juego')"
      ]
    },
    {
      "cell_type": "markdown",
      "metadata": {
        "id": "3cGHC3lrFJWq"
      },
      "source": [
        "Con este grafico podemos observar que la gran mayoria de jugadores son diestros para todas las posiciones, otra manera de verificar que probablemente el pie de preferencia del jugador no tenga mucho que ver con su valor."
      ]
    },
    {
      "cell_type": "markdown",
      "source": [
        "#Insights"
      ],
      "metadata": {
        "id": "j4akJWHROxa6"
      }
    },
    {
      "cell_type": "markdown",
      "source": [
        "Un punto a mejorar del dataset, sería tener la posición de los que aparecen como sustitutos y tener un mejor panorama de las posiciones de juego de todos los jugadores del listado. \\\n",
        "\n",
        "De igual forma, si se tuviera el historial de los jugadores se podría hacer un análisis más completo de su evolución y poder tomar decisiones acertadas antes de que empiecen las temporadas del mercado de pases. \\\n",
        "\n",
        "Si se piensa comprar un jugador cuyo valor de mercado supera los 20 millones de euros, su salario rondará los 100.000 euros mensuales. \\\n",
        "\n",
        "Encontramos jugadores con alto valor de mercado en países con una tradición futbolística no tan fuerte.\n"
      ],
      "metadata": {
        "id": "C8SUq1BoPAMs"
      }
    },
    {
      "cell_type": "markdown",
      "source": [
        "#Recomendaciones"
      ],
      "metadata": {
        "id": "_9TjehodPXEs"
      }
    },
    {
      "cell_type": "markdown",
      "source": [
        "En este listado se encuentran bastantes jugadores que no son titulares en sus equipos actuales y tienen un alto potencial. Sería conveniente revisar cuales de estos jugadores están abiertos a una compra. \\\n",
        "\n",
        "Si se está pensando en inversión, vale la pena revisar los jugadores con buen potencial de Europa y Sudamérica. \\\n",
        "\n",
        "Asimismo, buscar jugadores que jueguen de arquero, delantero y mediocampista derecho. \\\n",
        "\n",
        "El que el jugador sea zurdo o derecho no tiene mayor relevancia en el precio.\n"
      ],
      "metadata": {
        "id": "cA7WZQFkPOvF"
      }
    }
  ],
  "metadata": {
    "colab": {
      "collapsed_sections": [
        "ynt5VQs6Yn2F",
        "lAn93sPedMsm",
        "ItzvKuomqSkx"
      ],
      "provenance": [],
      "toc_visible": true,
      "authorship_tag": "ABX9TyNuoxBkghvzQHzrF+SHYyMQ",
      "include_colab_link": true
    },
    "kernelspec": {
      "display_name": "Python 3",
      "name": "python3"
    },
    "language_info": {
      "name": "python"
    }
  },
  "nbformat": 4,
  "nbformat_minor": 0
}